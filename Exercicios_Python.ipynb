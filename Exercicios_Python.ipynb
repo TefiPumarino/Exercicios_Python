{
  "nbformat": 4,
  "nbformat_minor": 0,
  "metadata": {
    "colab": {
      "provenance": [],
      "toc_visible": true
    },
    "kernelspec": {
      "name": "python3",
      "display_name": "Python 3"
    },
    "language_info": {
      "name": "python"
    }
  },
  "cells": [
    {
      "cell_type": "markdown",
      "source": [
        "#Aula 1"
      ],
      "metadata": {
        "id": "f-htjRVUeMYc"
      }
    },
    {
      "cell_type": "markdown",
      "source": [
        "##Exercício 1\n",
        "\n",
        "Faça um código que mostra a mensagem \"Olá mundo\" na tela"
      ],
      "metadata": {
        "id": "It9JWqh0em9l"
      }
    },
    {
      "cell_type": "code",
      "source": [
        "print(\"Olá mundo\")"
      ],
      "metadata": {
        "id": "6e9Tzzs3eqLB"
      },
      "execution_count": null,
      "outputs": []
    },
    {
      "cell_type": "markdown",
      "source": [
        "## Exercício 2\n",
        "\n",
        "Faça um código que peça as 3 notas semestrais e mostre a média simples"
      ],
      "metadata": {
        "id": "gBbZ5eXletiZ"
      }
    },
    {
      "cell_type": "code",
      "source": [
        "nota1 = float(input(\"Digite sua primeira nota: \"))\n",
        "nota2 = float(input(\"Digite sua segunda nota: \"))\n",
        "nota3 = float(input(\"Digite sua terceira nota: \"))\n",
        "\n",
        "media = (nota1 + nota2 + nota3)/3\n",
        "\n",
        "print(f\"A sua média simples semestral é igual a {media}\")"
      ],
      "metadata": {
        "id": "gqYfF1Tzexl-"
      },
      "execution_count": null,
      "outputs": []
    },
    {
      "cell_type": "markdown",
      "source": [
        "## Exercício 3\n",
        "\n",
        " Faça um código que peça as 3 notas semestrais e mostre a média ponderada"
      ],
      "metadata": {
        "id": "fF_o12pheznq"
      }
    },
    {
      "cell_type": "code",
      "source": [
        "PESO_NOTA1 = 1\n",
        "PESO_NOTA2 = 2\n",
        "PESO_NOTA3 = 3\n",
        "\n",
        "nota1 = float(input(\"Digite sua primeira nota: \"))\n",
        "nota2 = float(input(\"Digite sua segunda nota: \"))\n",
        "nota3 = float(input(\"Digite sua terceira nota: \"))\n",
        "\n",
        "media = (PESO_NOTA1*nota1 + PESO_NOTA2*nota2 + PESO_NOTA3*nota3)/(PESO_NOTA1 + PESO_NOTA2 +PESO_NOTA3)\n",
        "\n",
        "print(f\"A sua média simples semestral é igual a {media:.2f}\")"
      ],
      "metadata": {
        "id": "Jk8zdyffe37-"
      },
      "execution_count": null,
      "outputs": []
    },
    {
      "cell_type": "markdown",
      "source": [
        "## Exercício 4\n",
        "\n",
        "Faça um código que pergunte quanto você ganha por hora e o número de horas trabalhas no mês. Calcule e mostre o total do seu salário no referido mês"
      ],
      "metadata": {
        "id": "USjHYfKfe6kR"
      }
    },
    {
      "cell_type": "code",
      "source": [
        "valor_hora = float(input(\"Quanto você ganha por hora? \"))\n",
        "horas_trabalhadas = float(input(\"Quantas horas você trabalha por mês? \"))\n",
        "\n",
        "salario = valor_hora*horas_trabalhadas\n",
        "\n",
        "print(f'Seu salário mensal é R$ {salario}')"
      ],
      "metadata": {
        "id": "zAvBw3bWe_7F"
      },
      "execution_count": null,
      "outputs": []
    },
    {
      "cell_type": "markdown",
      "source": [
        "## Exercício 5\n",
        "\n",
        "Faça um código que peça a temperatura em graus Fahrenheit, transforme e mostre a temperatura em graus Celsius.\n",
        "\n",
        "A equação para encontrar o valor de Celsius (C) e Fahrenheit (F) é:\n",
        "\n",
        "$$ C = {5 * (F - 32) \\over 9} $$"
      ],
      "metadata": {
        "id": "KXRuEzkXfCc3"
      }
    },
    {
      "cell_type": "code",
      "source": [
        "temperatura_F = float(input(\"Qual a temperatura em Fahrenheit? \"))\n",
        "\n",
        "temperatura_C = (5*(temperatura_F - 32))/9\n",
        "\n",
        "print(f'A temperatura em graus Celsius é {temperatura_C:.2f}°')"
      ],
      "metadata": {
        "id": "Napg7iiEfJiI"
      },
      "execution_count": null,
      "outputs": []
    },
    {
      "cell_type": "markdown",
      "source": [
        "## Exercício 6\n",
        "\n",
        "Faça um código que pergunte quanto você ganha por hora e o número de horas trabalhadas no mês. Calcule a mostre o total do seu salário no referido mês, sabendo-se que são descontados 11% para o Imposto de Renda, 8% para o INSS e 5% para o sindicato. Esse código deve nos retornar:\n",
        "\n",
        "- salário bruto\n",
        "- quanto pagou ao INSS\n",
        "- quanto pagou ao sindicato\n",
        "- o salário líquido"
      ],
      "metadata": {
        "id": "uwPzoUY-fMMX"
      }
    },
    {
      "cell_type": "code",
      "source": [
        "IR = 0.11\n",
        "INSS = 0.08\n",
        "SINDICATO = 0.05\n",
        "\n",
        "valor_hora = float(input(\"Quanto você ganha por hora? \"))\n",
        "horas_trabalhadas = float(input(\"Quantas horas você trabalha por mês? \"))\n",
        "\n",
        "salario_bruto = valor_hora*horas_trabalhadas\n",
        "salario_liquido = salario_bruto*0.76\n",
        "\n",
        "print(f'Seu salário bruto mensal é R$ {salario_bruto}')\n",
        "print(f\"Você pagou de INSS R$ {salario_bruto*INSS:.2f}\")\n",
        "print(f\"Você pagou ao sindicato R$ {salario_bruto*SINDICATO:.2f}\")\n",
        "print(f'Seu salário líquido mensal é R$ {salario_liquido}')"
      ],
      "metadata": {
        "id": "UUvdDf0zfbdd"
      },
      "execution_count": null,
      "outputs": []
    },
    {
      "cell_type": "markdown",
      "source": [
        "## Exercício 7\n",
        "\n",
        "Faça um código que receba informações de altura e peso e retorne o índice de massa corpórea (IMC)\n",
        "\n",
        "Dica: Para quem não conhece a fórmula é um bom momento para praticar essa busca na internet."
      ],
      "metadata": {
        "id": "iuw0hBHnfcPi"
      }
    },
    {
      "cell_type": "code",
      "source": [
        "altura = float(input(\"Qual a sua altura em metros? \"))\n",
        "peso = float(input(\"Qual o seu peso em KG? \"))\n",
        "\n",
        "IMC = peso/(altura**2)\n",
        "\n",
        "print(f'Seu IMC é igual a {IMC:.3f}')"
      ],
      "metadata": {
        "id": "-qWYIH6Cfh6i"
      },
      "execution_count": null,
      "outputs": []
    },
    {
      "cell_type": "markdown",
      "source": [
        "## Exercício 8\n",
        "\n",
        "João Papo-de-Pescador, homem de bem, comprou um microcomputador para controlar o rendimento diário do seu trabalho. Toda vez que ele traz um peso de peixes maior que o estabelecido pelo regulamento de pesca do estado onde mora (50 quilos) deve pagar uma multa de R$ 4,00 por quilo excedente.\n",
        "João precisa que você faça um programa que leia a variável peso (peso de peixes) e calcule o excesso. Gravar na variável excesso a quantidade de quilos além do limite e na variável multa o valor da multa que João deverá pagar. Imprima os dados do programa com as mensagens adequadas.\n",
        "\n",
        "\n",
        "Vale a pena relembrar os ensinamentos de if/else"
      ],
      "metadata": {
        "id": "TcyAcwHufu7D"
      }
    },
    {
      "cell_type": "code",
      "source": [
        "MULTA_POR_KILO = 4\n",
        "\n",
        "peso_pescado = float(input(\"Quantos quilos de peixe você pescou? \"))\n",
        "\n",
        "excesso = peso_pescado - 50\n",
        "multa = MULTA_POR_KILO*excesso\n",
        "\n",
        "if peso_pescado <= 50:\n",
        "  print(\"Não há multa a ser paga.\")\n",
        "else:\n",
        "  print(f\"Você pescou {excesso}Kg além do limite, portanto deverá pagar uma multa de R${multa:.2f}\")"
      ],
      "metadata": {
        "id": "wJBoLL1efz-h"
      },
      "execution_count": null,
      "outputs": []
    },
    {
      "cell_type": "markdown",
      "source": [
        "#Aula 2"
      ],
      "metadata": {
        "id": "4bQ88bcceUzg"
      }
    },
    {
      "cell_type": "markdown",
      "source": [
        "## Exercício 1\n",
        "\n",
        "Um posto está vendendo combustíveis com a seguinte tabela de descontos:\n",
        "\n",
        "Álcool:\n",
        "\n",
        "- até 20 litros, desconto de 3% por litro\n",
        "- acima de 20 litros, desconto de 5% por litro\n",
        "\n",
        "Gasolina:\n",
        "\n",
        "- até 20 litros, desconto de 4% por litro\n",
        "- acima de 20 litros, desconto de 6% por litro.\n",
        "\n",
        "Escreva um algoritmo que leia o número de litros vendidos, o tipo de combustível (codificado da seguinte forma: A-álcool, G-gasolina), calcule e imprima o valor a ser pago pelo cliente sabendo-se que o preço do litro da gasolina é 2,50 reais o preço do litro do álcool é 1,90 reais."
      ],
      "metadata": {
        "id": "BoGx67KygOEr"
      }
    },
    {
      "cell_type": "code",
      "source": [
        "GASOLINA = 2.5\n",
        "ALCOOL = 1.9\n",
        "\n",
        "qntd_litros = float(input(\"Informe a quantidade de litros vendidos: \"))\n",
        "tipo_combustivel = input(\"Informe o tipo de combustível (A-álcool, G-gasolina): \")\n",
        "\n",
        "#Calculando o valor\n",
        "if tipo_combustivel == \"G\":\n",
        "  preco_litro = GASOLINA\n",
        "  if qntd_litros > 20:\n",
        "    fator = 0.96 \n",
        "  else:\n",
        "    fator = 0.94 \n",
        "else:\n",
        "  preco_litro = ALCOOL\n",
        "  if qntd_litros <= 20:\n",
        "    fator = 0.97 \n",
        "  else:\n",
        "    fator = 0.95\n",
        "\n",
        "valor_pago = preco_litro * fator * qntd_litros\n",
        "print(f\"O valor a ser pago é: R${valor_pago}\") "
      ],
      "metadata": {
        "id": "IFbjLC86giVD"
      },
      "execution_count": null,
      "outputs": []
    },
    {
      "cell_type": "markdown",
      "source": [
        "## Eercício 2\n",
        "\n",
        "Faça um programa que faça 5 perguntas para uma pessoa sobre um crime. As perguntas são:\n",
        "\n",
        "- \"Telefonou para a vítima?\"\n",
        "- \"Esteve no local do crime?\"\n",
        "- \"Mora perto da vítima?\"\n",
        "- \"Devia para a vítima?\"\n",
        "- \"Já trabalhou com a vítima?\"\n",
        "\n",
        "O programa deve no final emitir uma classificação sobre a participação da pessoa no crime. Se a pessoa responder positivamente a 2 questões ela deve ser classificada como \"Suspeita\", entre 3 e 4 como \"Cúmplice\" e 5 como \"Assassino\". Caso contrário, ele será classificado como \"Inocente\"."
      ],
      "metadata": {
        "id": "Kdl-jT-QglwE"
      }
    },
    {
      "cell_type": "code",
      "source": [
        "pergunta1 = input(\"Telefonou para a vítima? (S-Sim,N-Não): \")\n",
        "pergunta2 = input(\"Esteve no local do crime? (S-Sim,N-Não): \")\n",
        "pergunta3 = input(\"Mora perto da vítima? (S-Sim,N-Não): \")\n",
        "pergunta4 = input(\"Devia para a vítima? (S-Sim,N-Não): \")\n",
        "pergunta5 = input(\"Já trabalhou com a vítima? (S-Sim,N-Não): \")\n",
        "\n",
        "qtd_sim = 0\n",
        "\n",
        "#Verificando quais perguntas tiveram SIM como resposta\n",
        "if pergunta1 == \"S\":\n",
        "  qtd_sim += 1 \n",
        "\n",
        "if pergunta2 == \"S\":\n",
        "  qtd_sim += 1 \n",
        "\n",
        "if pergunta3 == \"S\":\n",
        "  qtd_sim += 1 \n",
        "\n",
        "if pergunta4 == \"S\":\n",
        "  qtd_sim += 1\n",
        "\n",
        "if pergunta5 == \"S\":\n",
        "  qtd_sim += 1  \n",
        "\n",
        "\n",
        "#Classificação finalNN\n",
        "if qtd_sim == 2:\n",
        "  print(\"Suspeita\")\n",
        "elif 3 <= qtd_sim <= 4:\n",
        "  print(\"Cúmplice\")\n",
        "elif qtd_sim == 5:\n",
        "  print(\"Assassino\")\n",
        "else:\n",
        "  print(\"Inocente\")"
      ],
      "metadata": {
        "id": "3n0_ScGkg2Kz"
      },
      "execution_count": null,
      "outputs": []
    },
    {
      "cell_type": "markdown",
      "source": [
        "## Exercício 3\n",
        "\n",
        "Faça um Programa que leia um número inteiro menor que 1000 e imprima a quantidade de centenas, dezenas e unidades do mesmo. Observando os termos no plural a colocação do \"e\", da vírgula entre outros. Exemplo:\n",
        "\n",
        "\n",
        "326 = 3 centenas, 2 dezenas e 6 unidades\n",
        "\n",
        "12 = 1 dezena e 2 unidades"
      ],
      "metadata": {
        "id": "joilHioCg2mv"
      }
    },
    {
      "cell_type": "code",
      "source": [
        "numero = int(input(\"Informe um número inteiro menor que 1000: \"))\n",
        "\n",
        "# DIVIDINDO O VALOR INFORMADO EM CENTENAS, DEZENAS E UNIDADES\n",
        "centena = numero//100\n",
        "resto = numero%100\n",
        "\n",
        "dezena = resto//10\n",
        "\n",
        "unidade = resto%10\n",
        "\n",
        "\n",
        "# CASO 1: MAIS DE UMA CENTENA.  \n",
        "if centena > 1:\n",
        "  #CASO 1.1: C > 1 e D > 1\n",
        "  if dezena > 1:\n",
        "    #CASO 1.1.1: C > 1 e D > 1 e U > 1\n",
        "    if unidade > 1:\n",
        "      print(f\"{numero} = {centena} centenas, {dezena} dezenas e {unidade} unidades\")\n",
        "    #CASO 1.1.2: C > 1 e D > 1 e U = 1\n",
        "    elif unidade > 0:\n",
        "      print(f\"{numero} = {centena} centenas, {dezena} dezenas e {unidade} unidade\")\n",
        "    #CASO 1.1.3: C > 1 e D > 1 e U = 0\n",
        "    else:\n",
        "      print(f\"{numero} = {centena} centenas e {dezena} dezenas\")\n",
        "  \n",
        "  #CASO 1.2: C > 1 e D = 1\n",
        "  elif dezena > 0:\n",
        "    #CASO 1.2.1: C > 1 e D = 1 e U > 1\n",
        "    if unidade > 1:\n",
        "      print(f\"{numero} = {centena} centenas, {dezena} dezena e {unidade} unidades\")\n",
        "    #CASO 1.2.2: C > 1 e D = 1 e U = 1\n",
        "    elif unidade > 0:\n",
        "      print(f\"{numero} = {centena} centenas, {dezena} dezena e {unidade} unidade\")\n",
        "    #CASO 1.2.3: C > 1 e D = 1 e U = 1\n",
        "    else:\n",
        "      print(f\"{numero} = {centena} centenas e {dezena} dezena\")\n",
        "  \n",
        "  #CASO 1.3: C > 1 e D = 0\n",
        "  else:\n",
        "    #CASO 1.3.1: C > 1 e D = 0 e U > 1\n",
        "    if unidade > 1:\n",
        "      print(f\"{numero} = {centena} centenas e {unidade} unidades\")\n",
        "    #CASO 1.3.2: C > 1 e D = 0 e U = 1\n",
        "    elif unidade > 0:\n",
        "      print(f\"{numero} = {centena} centenas e {unidade} unidade\")\n",
        "    #CASO 1.3.3: C > 1 e D = 0 e U = 0\n",
        "    else:\n",
        "      print(f\"{numero} = {centena} centenas\")\n",
        "    \n",
        "# CASO 2: UMA CENTENA. \n",
        "elif centena > 0:\n",
        "  #CASO 2.1: C = 1 e D > 1\n",
        "  if dezena > 1:\n",
        "    #CASO 2.1.1: C = 1 e D > 1 e U > 1\n",
        "    if unidade > 1:\n",
        "      print(f\"{numero} = {centena} centena, {dezena} dezenas e {unidade} unidades\")\n",
        "    #CASO 2.1.2: C = 1 e D > 1 e U = 1\n",
        "    elif unidade > 0:\n",
        "      print(f\"{numero} = {centena} centena, {dezena} dezenas e {unidade} unidade\")\n",
        "    #CASO 2.1.3: C = 1 e D > 1 e U = 0\n",
        "    else:\n",
        "      print(f\"{numero} = {centena} centena e {dezena} dezenas\")\n",
        "\n",
        "  #CASO 2.2: C = 1 e D = 1\n",
        "  elif dezena > 0:\n",
        "    #CASO 2.2.1: C = 1 e D = 1 e U > 1\n",
        "    if unidade > 1:\n",
        "      print(f\"{numero} = {centena} centena, {dezena} dezena e {unidade} unidades\")\n",
        "    #CASO 2.2.2: C = 1 e D = 1 e U = 1\n",
        "    elif unidade > 0:\n",
        "      print(f\"{numero} = {centena} centena, {dezena} dezena e {unidade} unidade\")\n",
        "    #CASO 2.2.3: C = 1 e D = 1 e U = 1\n",
        "    else:\n",
        "      print(f\"{numero} = {centena} centena e {dezena} dezena\")\n",
        "  \n",
        "  #CASO 2.3: C = 1 e D = 0\n",
        "  else:\n",
        "    #CASO 2.3.1: C = 1 e D = 0 e U > 1\n",
        "    if unidade > 1:\n",
        "      print(f\"{numero} = {centena} centena e {unidade} unidades\")\n",
        "    #CASO 2.3.2: C = 1 e D = 0 e U = 1\n",
        "    elif unidade > 0:\n",
        "      print(f\"{numero} = {centena} centena e {unidade} unidade\")\n",
        "    #CASO 2.3.3: C = 1 e D = 0 e U = 0\n",
        "    else:\n",
        "      print(f\"{numero} = {centena} centena\")\n",
        "\n",
        "# CASO 3: SEM CENTENA. \n",
        "else:\n",
        "  #CASO 3.1: C = 0 e D > 1\n",
        "  if dezena > 1:\n",
        "    #CASO 3.1.1: C = 0 e D > 1 e U > 1\n",
        "    if unidade > 1:\n",
        "      print(f\"{numero} = {dezena} dezenas e {unidade} unidades\")\n",
        "    #CASO 3.1.2: C = 0 e D > 1 e U = 1\n",
        "    elif unidade > 0:\n",
        "      print(f\"{numero} = {dezena} dezenas e {unidade} unidade\")\n",
        "    #CASO 3.1.1: C = 0 e D > 1 e U = 0\n",
        "    else:\n",
        "      print(f\"{numero} = {dezena} dezenas\")\n",
        "\n",
        "  #CASO 3.2: C = 0 e D = 1\n",
        "  elif dezena > 0:\n",
        "    #CASO 3.2.1: C = 0 e D = 1 e U > 1\n",
        "    if unidade > 1:\n",
        "      print(f\"{numero} = {dezena} dezena e {unidade} unidades\")\n",
        "    #CASO 3.2.2: C = 0 e D = 1 e U = 1\n",
        "    elif unidade > 0:\n",
        "      print(f\"{numero} = {dezena} dezena e {unidade} unidade\")\n",
        "    #CASO 3.2.1: C = 0 e D = 1 e U = 0\n",
        "    else:\n",
        "      print(f\"{numero} = {dezena} dezena\")\n",
        "  \n",
        "  #CASO 3.3: C = 0 e D = 0\n",
        "  else:\n",
        "    #CASO 3.3.1: C = 0 e D = 0 e U > 1\n",
        "    if unidade > 1:\n",
        "      print(f\"{numero} = {unidade} unidades\")\n",
        "    #CASO 3.3.2: C = 0 e D = 0 e U = 1\n",
        "    elif unidade > 0:\n",
        "      print(f\"{numero} = {unidade} unidade\")\n",
        "    #CASO 3.3.3: C = 0 e D = 0 e U = 0 \n",
        "    else:\n",
        "      print(f\"{numero} = 0\")"
      ],
      "metadata": {
        "id": "dB8_yhG1g-Ge"
      },
      "execution_count": null,
      "outputs": []
    },
    {
      "cell_type": "markdown",
      "source": [
        "## Exercício 4\n",
        "\n",
        "Faça um programa que calcule as raízes de uma equação do segundo grau, na forma:\n",
        "\n",
        "$ax^{2} + bx + c$ \n",
        "\n",
        "O programa deverá pedir os valores de a, b e c, informando ao usuário nas seguintes situações:\n",
        "Se o usuário informar o valor de A igual a zero, a equação não é do segundo grau e o programa não deve fazer pedir os demais valores, sendo encerrado;\n",
        "Se o delta calculado for negativo, a equação não possui raizes reais. Informe ao usuário e encerre o programa;\n",
        "Se o delta calculado for igual a zero a equação possui apenas uma raiz real; informe-a ao usuário;\n",
        "Se o delta for positivo, a equação possui duas raiz reais; informe-as ao usuário;"
      ],
      "metadata": {
        "id": "MYlSb2x7g-Sv"
      }
    },
    {
      "cell_type": "code",
      "source": [
        "parametro_a = float(input(f\"Informe o parâmetro a da equação: \"))\n",
        "\n",
        "if parametro_a == 0:\n",
        "  print(\"Não é uma equação do segundo grau\")\n",
        "else:\n",
        "  parametro_b = float(input(f\"Informe o parâmetro b da equação: \"))\n",
        "  parametro_c = float(input(f\"Informe o parâmetro c da equação: \"))\n",
        "  delta = parametro_b**2 - 4*parametro_a*parametro_c\n",
        "  if delta < 0 :\n",
        "    print(\"A equação não possui raízes reais\")\n",
        "  elif delta == 0 :\n",
        "    raiz_unica = (- parametro_b)/(2*parametro_a)\n",
        "    print(f\"A equação possui apenas uma raiz: x = {raiz_unica}\")\n",
        "  else:\n",
        "    raiz1 = (- parametro_b + (delta)**(0.5))/(2*parametro_a)\n",
        "    raiz2 = (- parametro_b - (delta)**(0.5))/(2*parametro_a)\n",
        "    print(f\"A equação possui duas raízes reais distintas: x' = {raiz1} e x'' = {raiz2}\")"
      ],
      "metadata": {
        "id": "962kzmv7hHXF"
      },
      "execution_count": null,
      "outputs": []
    },
    {
      "cell_type": "markdown",
      "source": [
        "## Exercício 5\n",
        "\n",
        "Faça um Programa para um caixa eletrônico. O programa deverá perguntar ao usuário o valor do saque e depois informar quantas notas de cada valor serão fornecidas, considerando o valor mínimo de notas possíveis. As notas disponíveis serão as de 1, 5, 10, 50 e 100 reais."
      ],
      "metadata": {
        "id": "1OStm0fchHrH"
      }
    },
    {
      "cell_type": "code",
      "source": [
        "valor = int(input(\"Qual o valor do saque? \"))\n",
        "\n",
        "notas_100 = valor//100\n",
        "resto = valor%100\n",
        "\n",
        "notas_50 = resto//50\n",
        "resto = resto%50\n",
        "\n",
        "notas_10 = resto//10\n",
        "resto = resto%10\n",
        "\n",
        "notas_5 = resto//5\n",
        "resto = resto%50\n",
        "\n",
        "notas_2 = resto//2\n",
        "notas_1 = resto%2\n",
        "\n",
        "mensagem = \"O valor será disponibilizado em: \\n\"\n",
        "\n",
        "if notas_100 != 0:\n",
        "  mensagem = mensagem + f\"{notas_100} notas de R$100,00 \\n\"\n",
        "\n",
        "if notas_50 != 0:\n",
        "  mensagem = mensagem + f\"{notas_50} notas de R$50,00 \\n\"\n",
        "\n",
        "if notas_10 != 0:\n",
        "  mensagem = mensagem + f\"{notas_10} notas de R$10,00 \\n\"\n",
        "\n",
        "if notas_5 != 0:\n",
        "  mensagem = mensagem + f\"{notas_5} notas de R$5,00 \\n\"\n",
        "\n",
        "if notas_2 != 0:\n",
        "  mensagem = mensagem + f\"{notas_2} notas de R$2,00 \\n\"\n",
        "\n",
        "if notas_1 != 0:\n",
        "  mensagem = mensagem + f\"{notas_1} notas de R$1,00\"\n",
        "\n",
        "print(mensagem)"
      ],
      "metadata": {
        "id": "832fr1ywhNWG"
      },
      "execution_count": null,
      "outputs": []
    },
    {
      "cell_type": "markdown",
      "source": [
        "## Exercício 6\n",
        "\n",
        "Faça um Programa que peça os 3 lados de um triângulo. O programa deverá informar se os valores podem ser um triângulo. Indique, caso os lados formem um triângulo, se o mesmo é: equilátero, isósceles ou escaleno.\n",
        "\n",
        "Dicas:\n",
        "\n",
        "- Três lados formam um triângulo quando a soma de - quaisquer dois lados for maior que o terceiro;\n",
        "- Triângulo Equilátero: três lados iguais;\n",
        "- Triângulo Isósceles: quaisquer dois lados iguais;\n",
        "- Triângulo Escaleno: três lados diferentes;\n"
      ],
      "metadata": {
        "id": "Kuxu_HIPUEJ3"
      }
    },
    {
      "cell_type": "code",
      "source": [
        "lado1 = float(input(\"Informe um valor: \"))\n",
        "lado2 = float(input(\"Informe outro valor: \"))\n",
        "lado3 = float(input(\"Informe um terceiro valor: \"))\n",
        "\n",
        "if lado1 + lado2 > lado3 and lado1 + lado3 > lado2 and lado2 + lado3 > lado1:\n",
        "  if lado1 == lado2 == lado3:\n",
        "    print(\"Suas medidas determinam um triângulo Equilátero\")\n",
        "  elif lado1 == lado2 or lado1 == lado3 or lado2 == lado3:\n",
        "    print(\"Suas medidas determinam um triângulo Isósceles\")\n",
        "  else:\n",
        "    print(\"Suas medidas determinam um triângulo Escaleno\")\n",
        "else:\n",
        "  print(\"Suas medidas não determinam um triângulo\")"
      ],
      "metadata": {
        "id": "VmA1MwmSUGCV"
      },
      "execution_count": null,
      "outputs": []
    },
    {
      "cell_type": "markdown",
      "source": [
        "# Aula 3"
      ],
      "metadata": {
        "id": "_VAgUv5xhZ6B"
      }
    },
    {
      "cell_type": "markdown",
      "source": [
        "## Exercício 1\n",
        "\n",
        " Imprima os seguintes padrões utilizando loop. O usuário deverá determinar quão grande será a extensão/comprimento"
      ],
      "metadata": {
        "id": "TzTGUGZqhcQB"
      }
    },
    {
      "cell_type": "markdown",
      "source": [
        "padrão I:<br>\n",
        "\n",
        "\\*<br>\n",
        "\\*\\*<br>\n",
        "\\*\\*\\*<br>\n",
        "\\*\\*\\*\\*<br>"
      ],
      "metadata": {
        "id": "pxhsZEsLhpPT"
      }
    },
    {
      "cell_type": "code",
      "source": [
        "maximo_estrelas = int(input(\"qual a maior quantidade de estrelas você quer? \"))\n",
        "contador = 0\n",
        "\n",
        "while contador < maximo_estrelas:\n",
        "  contador += 1\n",
        "  print(\"*\"*(contador) )"
      ],
      "metadata": {
        "id": "tuSlZ1qlhyuL"
      },
      "execution_count": null,
      "outputs": []
    },
    {
      "cell_type": "markdown",
      "source": [
        "padrão II:<br>\n",
        "\n",
        "  \\*  <br>\n",
        " \\*\\*\\* <br>\n",
        "\\*\\*\\*\\*\\*<br>\n",
        " \\*\\*\\* <br>\n",
        "  \\*  <br>"
      ],
      "metadata": {
        "id": "b3vVgRCwhsW7"
      }
    },
    {
      "cell_type": "code",
      "source": [
        "comprimento = int(input(\"Determine o comprimento do padrão: \"))\n",
        "cont = 1\n",
        "while cont <= comprimento:\n",
        "  print(cont * '*')\n",
        "  cont += 2\n",
        "while cont > 0:\n",
        "  print(cont * '*')\n",
        "  cont -= 2\n",
        "else:\n",
        "  print(\"fim\")"
      ],
      "metadata": {
        "id": "AZfYeildh4BU"
      },
      "execution_count": null,
      "outputs": []
    },
    {
      "cell_type": "markdown",
      "source": [
        "## Exercício 2\n",
        "\n",
        "recebe um número inteiro positivo e o retorne invertido"
      ],
      "metadata": {
        "id": "Hr9eAxDkiAn5"
      }
    },
    {
      "cell_type": "code",
      "source": [
        "numero = int(input(\"Digite o numero a ser invertido: \"))\n",
        "\n",
        "numero_invertido = 0\n",
        "\n",
        "while numero > 0:\n",
        "    numero_invertido *= 10\n",
        "    numero_invertido += numero % 10\n",
        "    numero //= 10\n",
        "\n",
        "print(numero_invertido)"
      ],
      "metadata": {
        "id": "LtCWcp4UiIXm"
      },
      "execution_count": null,
      "outputs": []
    },
    {
      "cell_type": "markdown",
      "source": [
        "## Exercício 3\n",
        "\n",
        "Faça a somatória de todos os numeros seguindo a sequência: <br>\n",
        "\n",
        "$ \\frac{1}{1} + \\frac{1}{2} + \\frac{1}{3} + \\frac{1}{4} + \\frac{1}{5} + \\frac{1}{6} + ... + \\frac{1}{1000} $\n"
      ],
      "metadata": {
        "id": "x98oErdoiIh7"
      }
    },
    {
      "cell_type": "code",
      "source": [
        "n = 1\n",
        "soma = 0\n",
        "\n",
        "while n <= 1000 :\n",
        "  soma += 1/n\n",
        "  n += 1\n",
        "\n",
        "print(soma)"
      ],
      "metadata": {
        "id": "Io0h9qb2iPHm"
      },
      "execution_count": null,
      "outputs": []
    },
    {
      "cell_type": "markdown",
      "source": [
        "## Exercício 4\n",
        "\n",
        "Faça a somatória de todos os numeros seguindo a sequência: <br>\n",
        "\n",
        "$ \\frac{1}{1} + \\frac{1}{2} + \\frac{1}{4} + \\frac{1}{8} + \\frac{1}{16} + \\frac{1}{32} + ... + \\frac{1}{2^{n}} $"
      ],
      "metadata": {
        "id": "BNOctp8TiP0-"
      }
    },
    {
      "cell_type": "code",
      "source": [
        "valor_de_n = int(input(\"Informe um valor inteiro: \"))\n",
        "n = 0\n",
        "soma = 0\n",
        "\n",
        "while n <= valor_de_n :\n",
        "  soma += 1/(2**n)\n",
        "  n += 1\n",
        "\n",
        "print(soma)"
      ],
      "metadata": {
        "id": "tKdthhmFiabD"
      },
      "execution_count": null,
      "outputs": []
    },
    {
      "cell_type": "markdown",
      "source": [
        "# Aula 4\n",
        "\n"
      ],
      "metadata": {
        "id": "Me9voULJic67"
      }
    },
    {
      "cell_type": "markdown",
      "source": [
        "## Exercício 1\n",
        "\n",
        "Dada uma lista encadeada de caracteres formada por uma seqüência alternada de letras e dígitos, construa um método que retorne uma lista na qual as letras são mantidas na seqüência original e os dígitos são colocados na ordem inversa que aparecem na lista. Exemplos:\n",
        "\n",
        "A 1 E 5 T 7 W 8 G\n",
        "\n",
        "resposta: A E T W G 8 7 5 1\n",
        "\n",
        "3 C 9 H 4 Q 6\n",
        "\n",
        "resposta: C H Q 6 4 9 3\n",
        "\n",
        "Como mostram os exemplos, as letras devem ser mostradas primeiro, seguidas dos dígitos. Sugestões:\n",
        "\n",
        "usar uma fila e uma pilha;\n",
        "usar método .isdigit() que retorna booleano que retorna verdadeiro caso um caractere seja um dígito. https://www.w3schools.com/python/ref_string_isdigit.asp"
      ],
      "metadata": {
        "id": "BzNpvqsHimb2"
      }
    },
    {
      "cell_type": "code",
      "source": [
        "string_alfa_numerica = \"3C9H4Q6\"\n",
        "\n",
        "lista_de_letras = []\n",
        "lista_de_numeros = []\n",
        "\n",
        "for n in string_alfa_numerica:\n",
        "  if n.isdigit():\n",
        "    lista_de_numeros.append(n)\n",
        "  else:\n",
        "    lista_de_letras.append(n)\n",
        "\n",
        "lista_de_numeros.reverse()\n",
        "lista_concatenada = lista_de_letras + lista_de_numeros\n",
        "lista_final = \"\".join(lista_concatenada)\n",
        "print(lista_final)\n"
      ],
      "metadata": {
        "colab": {
          "base_uri": "https://localhost:8080/"
        },
        "id": "b-yxEbHZnJMZ",
        "outputId": "02696042-f5f8-4f90-f929-ba2bf5abb5e0"
      },
      "execution_count": null,
      "outputs": [
        {
          "output_type": "stream",
          "name": "stdout",
          "text": [
            "CHQ6493\n"
          ]
        }
      ]
    },
    {
      "cell_type": "markdown",
      "source": [
        "## Exercício 2\n",
        "\n",
        "Faça um algoritmo que recebe uma lista encadeada de números inteiros e retorna uma lista sem repetições, ou seja, uma lista onde cada número apareça apenas uma vez. Exemplo:\n",
        "\n",
        "12, 5, -7, 8, 5, 9, 12, 1, 8\n",
        "\n",
        "resposta: 12, 5, -7, 8, 9, 1"
      ],
      "metadata": {
        "id": "T0_iK6ENiwbr"
      }
    },
    {
      "cell_type": "code",
      "source": [
        "lista = [12, 5, -7, 8, 5, 9, 12, 1, 8]\n",
        "sem_repetidos = []\n",
        "\n",
        "for x in lista:\n",
        "  ja_tem = False\n",
        "  for y in sem_repetidos:\n",
        "    if x == y:\n",
        "      ja_tem = True\n",
        "  if ja_tem == False:\n",
        "    sem_repetidos.append(x)\n",
        "\n",
        "print(sem_repetidos)"
      ],
      "metadata": {
        "id": "snkEMUIBi-8J"
      },
      "execution_count": null,
      "outputs": []
    },
    {
      "cell_type": "markdown",
      "source": [
        "## Exercício 3\n",
        "\n",
        " crie um código que receba um número a ser pesquisado em uma lista simples (não aninhada). Esse código deve remover tanto a representação desse número em string (ex: \"1\") quanto número (ex: 1) que foi recebido. No final, retorne a lista com o termo já removido"
      ],
      "metadata": {
        "id": "6AWt_kfmi_Fw"
      }
    },
    {
      "cell_type": "code",
      "source": [
        "numero = input(\"Digite um número a ser pesquisado em uma lista: \")\n",
        "\n",
        "lista = [1,\"2\",3,4,5,6,7,2,8,9]\n",
        "\n",
        "for n in lista:\n",
        "  if numero == str(n):\n",
        "    lista.remove(n)\n",
        "\n",
        "print(lista)"
      ],
      "metadata": {
        "colab": {
          "base_uri": "https://localhost:8080/"
        },
        "id": "ZznF-YXFjCT6",
        "outputId": "f914c330-4e72-4305-e76f-bca1093e37dc"
      },
      "execution_count": null,
      "outputs": [
        {
          "output_type": "stream",
          "name": "stdout",
          "text": [
            "Digite um número a ser pesquisado em uma lista: 2\n",
            "[1, 3, 4, 5, 6, 7, 8, 9]\n"
          ]
        }
      ]
    },
    {
      "cell_type": "markdown",
      "source": [
        "## Exercício 4\n",
        "\n",
        "Dado uma lista1, conseguir medir a distância para outras lista2 e lista3.\n",
        "\n",
        "Premissas:\n",
        "\n",
        "- Todas as três listas sempre terão comprimentos iguais\n",
        "\n",
        "- O código vai conseguir calcular a distância independente do número de elementos da lista\n",
        "\n",
        "- O código vai retornar as distâncias em uma única lista\n",
        "\n",
        "- Por enquanto não vamos utilizar o input() para receber os valores da lista. Vamos utilizar da maneira habitual de atribuir uma lista a uma variável:\n",
        "\n",
        "  lista1 = [elementos da lista 1]\n",
        "\n",
        "  lista2 = [elementos da lista 2]\n",
        "\n",
        "  lista3 = [elementos da lista 3]\n",
        "\n",
        "\n",
        "sobre distância euclidiana: https://pt.wikipedia.org/wiki/Dist%C3%A2ncia_euclidiana"
      ],
      "metadata": {
        "id": "oXK7Ag1yjCeO"
      }
    },
    {
      "cell_type": "code",
      "source": [
        "lista1 = [1,6,8,3,7,3,2,6,7,7]\n",
        "lista2 = [5,8,4,2,4,7,9,5,1,2]\n",
        "lista3 = [8,1,3,6,4,5,5,8,7,9]\n",
        "\n",
        "radicando1 = 0\n",
        "radicando2 = 0\n",
        "\n",
        "for i in range(len(lista1)):\n",
        "  radicando1 += (lista2[i]-lista1[i])**2\n",
        "  radicando2 += (lista3[i]-lista1[i])**2\n",
        "\n",
        "distancia_12 = radicando1**(1/2)\n",
        "distancia_13 = radicando2**(1/2)\n",
        "\n",
        "distancias = [distancia_12 , distancia_13]\n",
        "\n",
        "print(distancias)"
      ],
      "metadata": {
        "colab": {
          "base_uri": "https://localhost:8080/"
        },
        "id": "DCcI1ahvjbTP",
        "outputId": "87ab3ae3-186f-4c29-8216-1c2dbbc60614"
      },
      "execution_count": null,
      "outputs": [
        {
          "output_type": "stream",
          "name": "stdout",
          "text": [
            "[13.152946437965905, 11.74734012447073]\n"
          ]
        }
      ]
    },
    {
      "cell_type": "markdown",
      "source": [
        "# Aula 5"
      ],
      "metadata": {
        "id": "TUZxxYH5ZHfm"
      }
    },
    {
      "cell_type": "markdown",
      "source": [
        "## Exercício 1\n",
        "\n",
        "Escreva um algoritmo que receba um número inteiro e positivo e calcule seu fatorial\n",
        "\n",
        "sugestão: procure fazer com o range()"
      ],
      "metadata": {
        "id": "bpXMgnzWZMn-"
      }
    },
    {
      "cell_type": "code",
      "source": [
        "n = int(input(\"Digite um número inteiro: \"))\n",
        "\n",
        "fatorial = 1\n",
        "\n",
        "for x in range(1, n+1):\n",
        "  fatorial *= x \n",
        "\n",
        "print(fatorial)"
      ],
      "metadata": {
        "id": "Ee_dMYSFZTxk"
      },
      "execution_count": null,
      "outputs": []
    },
    {
      "cell_type": "markdown",
      "source": [
        "## Exercício 2\n",
        "\n",
        " Escreva um algoritmo que quando passamos uma quantidade de notas, consegue recebê-las e retornar sua média"
      ],
      "metadata": {
        "id": "K__tQnlpZT8O"
      }
    },
    {
      "cell_type": "code",
      "source": [
        "n = int(input(\"Digite a quantidade de notas: \"))\n",
        "\n",
        "soma = 0\n",
        "for i in range(n):\n",
        "  nota = int(input(\"Digite uma nota: \"))\n",
        "  soma += nota\n",
        "\n",
        "media = soma/n\n",
        "\n",
        "print(media)"
      ],
      "metadata": {
        "id": "xgOzL--xZX7_",
        "colab": {
          "base_uri": "https://localhost:8080/"
        },
        "outputId": "812d1e09-e118-4baa-d55c-baa4824ca408"
      },
      "execution_count": null,
      "outputs": [
        {
          "output_type": "stream",
          "name": "stdout",
          "text": [
            "Digite a quantidade de notas: 3\n",
            "Digite uma nota: 9\n",
            "Digite uma nota: 9\n",
            "Digite uma nota: 3\n",
            "7.0\n"
          ]
        }
      ]
    },
    {
      "cell_type": "markdown",
      "source": [
        "## Exercício 3\n",
        "\n",
        "Crie um código que calcule a distância de uma lista com n elementos para outras múltiplas listas com a mesma quantidade de n elementos em suas listas.\n",
        "\n",
        "\n",
        "O código deve retornar uma lista com as distâncias dessa sua lista em relação aos outros pontos\n",
        "\n",
        "exemplo:\n",
        "```python\n",
        "meu_ponto = [1,2,3,4]\n",
        "outros_pontos = [[2,3,4,5],[2,5,7,6],[4,6,7,4]]\n",
        "```"
      ],
      "metadata": {
        "id": "vsXLaVv5ZYDy"
      }
    },
    {
      "cell_type": "code",
      "source": [
        "L1 = [0,0]\n",
        "L2 = [[0,1],[1,0]]\n",
        "\n",
        "\n",
        "lista_distancias = []\n",
        "\n",
        "for j in range(len(L2)):\n",
        "  radicando = 0\n",
        "  for i in range(len(L1)):\n",
        "    radicando += (L2[j][i]-L1[i])**2\n",
        "  distancia = radicando**(1/2)\n",
        "  lista_distancias.append(distancia)\n",
        "\n",
        "print(lista_distancias)"
      ],
      "metadata": {
        "colab": {
          "base_uri": "https://localhost:8080/"
        },
        "id": "P3j6MvUlZd69",
        "outputId": "bc3ae724-1695-4ca0-8954-0c7b3fd3cbab"
      },
      "execution_count": null,
      "outputs": [
        {
          "output_type": "stream",
          "name": "stdout",
          "text": [
            "[1.0, 1.0]\n"
          ]
        }
      ]
    },
    {
      "cell_type": "markdown",
      "source": [
        "# Aula 6"
      ],
      "metadata": {
        "id": "D0w4Kx54UMi9"
      }
    },
    {
      "cell_type": "markdown",
      "source": [
        "## Exercício 1\n",
        "\n",
        "Faça um programa que peça para o usuário digitar uma palavra e imprima cada letra em uma linha."
      ],
      "metadata": {
        "id": "3tMXFijlUtaP"
      }
    },
    {
      "cell_type": "code",
      "source": [
        "palavra = input(\"Digite uma palavra: \")\n",
        "\n",
        "for letra in palavra:\n",
        "  print(letra)"
      ],
      "metadata": {
        "colab": {
          "base_uri": "https://localhost:8080/"
        },
        "id": "4teAQHlhUyIq",
        "outputId": "f340b9fa-e457-42db-8158-66133a95dc3a"
      },
      "execution_count": null,
      "outputs": [
        {
          "output_type": "stream",
          "name": "stdout",
          "text": [
            "Digite uma palavra: paloma\n",
            "p\n",
            "a\n",
            "l\n",
            "o\n",
            "m\n",
            "a\n"
          ]
        }
      ]
    },
    {
      "cell_type": "markdown",
      "source": [
        "## Exercício 2\n",
        "\n",
        "Faca uma programa que receba uma frase e alterne essa string entre letras maiúsculas e minúsculas.\n",
        "\n",
        "Exemplo: se o usuário digitar \"latex\" o programa deve imprimir \"LaTeX\"."
      ],
      "metadata": {
        "id": "EczMnOJKUyWp"
      }
    },
    {
      "cell_type": "code",
      "source": [
        "frase = input(\"Digite uma frase: \")\n",
        "\n",
        "Nova_variavel = \"\"\n",
        "\n",
        "for i in range(len(frase)):\n",
        "  if i%2 == 0:\n",
        "    #print(frase[i].upper())\n",
        "    Nova_variavel += frase[i].upper()\n",
        "  else:\n",
        "    #print(frase[i].lower())\n",
        "    Nova_variavel += frase[i].lower()\n",
        "\n",
        "print(Nova_variavel)"
      ],
      "metadata": {
        "colab": {
          "base_uri": "https://localhost:8080/"
        },
        "id": "67Mqwof7U40z",
        "outputId": "6b341e6a-4bff-4625-9e7f-5c82924e11c4"
      },
      "execution_count": null,
      "outputs": [
        {
          "output_type": "stream",
          "name": "stdout",
          "text": [
            "Digite uma frase: latex\n",
            "LaTeX\n"
          ]
        }
      ]
    },
    {
      "cell_type": "markdown",
      "source": [
        "## Exercício 3:\n",
        "\n",
        "Faça uma programa que receba uma string e retorne uma nova string substituindo:\n",
        "\n",
        "'a' por '4'\n",
        "\n",
        "'e' por '3'\n",
        "\n",
        "'l' por '1'\n",
        "\n",
        "'t' por '7'"
      ],
      "metadata": {
        "id": "5-UeDqv5U5Bb"
      }
    },
    {
      "cell_type": "code",
      "source": [
        "texto = \"stephanie\"\n",
        "\n",
        "localizar = [\"a\", \"e\", \"l\", \"t\"]\n",
        "aplicar = ['4', '3', '1', '7']\n",
        "\n",
        "for indice, letra in enumerate(localizar): \n",
        "  texto = texto.replace(letra, aplicar[indice])\n",
        "\n",
        "print(texto)"
      ],
      "metadata": {
        "colab": {
          "base_uri": "https://localhost:8080/"
        },
        "id": "S-BPTQGLjNaM",
        "outputId": "791e9f85-f141-45ec-e151-4be72c1095dc"
      },
      "execution_count": null,
      "outputs": [
        {
          "output_type": "stream",
          "name": "stdout",
          "text": [
            "s73ph4ni3\n"
          ]
        }
      ]
    },
    {
      "cell_type": "markdown",
      "source": [
        "# Aula 7"
      ],
      "metadata": {
        "id": "-rSiDzxbnv8D"
      }
    },
    {
      "cell_type": "markdown",
      "source": [
        "## Exercício 1\n",
        "\n",
        "Faça uma função que recebe um texto e um letra e retorne a quantidade daquela letra naquele texto (ignore diferenças de capitalização, 'A' e 'a' são a mesma letra)"
      ],
      "metadata": {
        "id": "G2atdcIqnx01"
      }
    },
    {
      "cell_type": "code",
      "source": [
        "def cont_letra(texto, letra):\n",
        "  return texto.lower().count(letra.lower())\n",
        "\n",
        "cont_letra(\"stephanie\", \"e\")"
      ],
      "metadata": {
        "id": "aLRBi3Iyn3JQ",
        "colab": {
          "base_uri": "https://localhost:8080/"
        },
        "outputId": "91438c96-a0e0-4c6e-e97e-20af13ffa896"
      },
      "execution_count": null,
      "outputs": [
        {
          "output_type": "execute_result",
          "data": {
            "text/plain": [
              "2"
            ]
          },
          "metadata": {},
          "execution_count": 4
        }
      ]
    },
    {
      "cell_type": "markdown",
      "source": [
        "## Exercício 2\n",
        "\n",
        "Faça uma função que recebe uma string e retorna ela ao contrário."
      ],
      "metadata": {
        "id": "2Jmai-VNn3UU"
      }
    },
    {
      "cell_type": "code",
      "source": [
        "def ao_contrario(string):\n",
        "  return string[::-1]\n",
        "\n",
        "ao_contrario(\"tefi\")"
      ],
      "metadata": {
        "id": "58waFyTbn8rS",
        "colab": {
          "base_uri": "https://localhost:8080/",
          "height": 35
        },
        "outputId": "273f0a9a-2052-43ec-d022-ad71d9cbe18f"
      },
      "execution_count": null,
      "outputs": [
        {
          "output_type": "execute_result",
          "data": {
            "text/plain": [
              "'ifet'"
            ],
            "application/vnd.google.colaboratory.intrinsic+json": {
              "type": "string"
            }
          },
          "metadata": {},
          "execution_count": 6
        }
      ]
    },
    {
      "cell_type": "markdown",
      "source": [
        "## Exercício 3\n",
        "\n",
        "Agora faça uma função que recebe uma palavra e diz se ela é um palíndromo, ou seja, se ela é igual a ela mesma ao contrário.\n",
        "\n",
        "Sugestão: use a função do exercício anterior."
      ],
      "metadata": {
        "id": "4ycPdvdWn84R"
      }
    },
    {
      "cell_type": "code",
      "source": [
        "def palindromo(nome):\n",
        "    nome_invertido = nome[::-1]\n",
        "    if nome == nome_invertido:\n",
        "      return f' {nome} é palíndromo'\n",
        "    else:\n",
        "      return f' {nome} não é palíndromo'\n",
        "\n",
        "palindromo(\"iure\")"
      ],
      "metadata": {
        "id": "AfUaFJ2fuLnW",
        "colab": {
          "base_uri": "https://localhost:8080/",
          "height": 35
        },
        "outputId": "c0f4bc44-033c-4cda-b95a-2ba29e9a6f94"
      },
      "execution_count": null,
      "outputs": [
        {
          "output_type": "execute_result",
          "data": {
            "text/plain": [
              "' iure não é palíndromo'"
            ],
            "application/vnd.google.colaboratory.intrinsic+json": {
              "type": "string"
            }
          },
          "metadata": {},
          "execution_count": 7
        }
      ]
    },
    {
      "cell_type": "code",
      "source": [
        "def is_palindrome(palavra):\n",
        "  if palavra.lower() == ao_contrario(palavra.lower()):\n",
        "    #return print(f\"palavra {palavra.lower()} é igual a {ao_contrario(palavra.lower())}\")\n",
        "    return True\n",
        "  else:\n",
        "    return False\n",
        "\n",
        "is_palindrome(\"renner\")"
      ],
      "metadata": {
        "id": "44e0zZwYkkrp"
      },
      "execution_count": null,
      "outputs": []
    },
    {
      "cell_type": "markdown",
      "source": [
        "## Exercício 4\n",
        "\n",
        "Faça uma função max lista que faz a mesma coisa que a funcão max faz ao receber uma lista"
      ],
      "metadata": {
        "id": "R0kNTMsopoGw"
      }
    },
    {
      "cell_type": "code",
      "source": [
        "def max(lista):\n",
        "  max = lista[0]\n",
        "  for element in lista[1:]:\n",
        "    if element > max:\n",
        "      max = element\n",
        "  return max\n",
        "\n",
        "max([1,2,3])"
      ],
      "metadata": {
        "id": "nnadoHozps4j",
        "colab": {
          "base_uri": "https://localhost:8080/"
        },
        "outputId": "85906715-0235-4b73-8cb7-2e7b75e2702f"
      },
      "execution_count": null,
      "outputs": [
        {
          "output_type": "execute_result",
          "data": {
            "text/plain": [
              "3"
            ]
          },
          "metadata": {},
          "execution_count": 10
        }
      ]
    },
    {
      "cell_type": "markdown",
      "source": [
        "# Aula 8"
      ],
      "metadata": {
        "id": "M11ZNc-tiqpD"
      }
    },
    {
      "cell_type": "markdown",
      "source": [
        "## Exercício 1\n",
        "\n",
        "Crie um dicionário para as seguintes relações:\n",
        "\n",
        "<center>\n",
        "\n",
        ". |  |\n",
        "--- | --- | \n",
        "banana| 3.0 | \n",
        "cebola | 4.0 |\n",
        "maçã | 5.7\n",
        "abacaxi | 8.0\n",
        "\n",
        "\n",
        "</center>"
      ],
      "metadata": {
        "id": "CdiyzRriiz1F"
      }
    },
    {
      "cell_type": "code",
      "source": [
        "feira = { \"banana\":3.0, \"cebola\":4.0, \"maçã\":5.7, \"abacaxi\":8.0 }\n",
        "feira"
      ],
      "metadata": {
        "id": "_aGUKNU6i9j-",
        "colab": {
          "base_uri": "https://localhost:8080/"
        },
        "outputId": "7c2a8f59-c664-48d3-d56f-4455a97c0559"
      },
      "execution_count": null,
      "outputs": [
        {
          "output_type": "execute_result",
          "data": {
            "text/plain": [
              "{'banana': 3.0, 'cebola': 4.0, 'maçã': 5.7, 'abacaxi': 8.0}"
            ]
          },
          "metadata": {},
          "execution_count": 1
        }
      ]
    },
    {
      "cell_type": "markdown",
      "source": [
        "## Exercício 2\n",
        "\n",
        "Altere o valor da chave ‘Maçã’ no dicionário do exercício anterior para 8.6."
      ],
      "metadata": {
        "id": "2zpF4Bjzi41k"
      }
    },
    {
      "cell_type": "code",
      "source": [
        "feira[\"maçã\"] = 8.6\n",
        "feira"
      ],
      "metadata": {
        "id": "bU8l5nHGi-Lr",
        "colab": {
          "base_uri": "https://localhost:8080/"
        },
        "outputId": "2df15829-a4fc-4767-d592-1b12f340bd6a"
      },
      "execution_count": null,
      "outputs": [
        {
          "output_type": "execute_result",
          "data": {
            "text/plain": [
              "{'banana': 3.0, 'cebola': 4.0, 'maçã': 8.6, 'abacaxi': 8.0}"
            ]
          },
          "metadata": {},
          "execution_count": 2
        }
      ]
    },
    {
      "cell_type": "markdown",
      "source": [
        "## Exercício 3\n",
        "Faça uma função que conte quantas vezes cada elemento aparece em um lista. Essa função deverá guardar os dados em um dicionário no qual as chaves são os elementos inseridos e os valores são a contagem de quantas vezes esse elemento aparece. ex de output: {\"banana\":2, \"maçã\":1}"
      ],
      "metadata": {
        "id": "88i5YkA-i7Bg"
      }
    },
    {
      "cell_type": "code",
      "source": [
        "lista1 = \"banana maçã abacaxi cebola banana maçã cebola banana\"\n",
        "lista1 = lista1.split()\n",
        "\n",
        "def conta_elemento(lista):\n",
        "  \n",
        "  contagem = {}\n",
        "\n",
        "  for elemento in lista:\n",
        "    if elemento not in contagem:\n",
        "      contagem[elemento] = lista.count(elemento)\n",
        "\n",
        "  return contagem\n",
        "\n",
        "conta_elemento(lista1)"
      ],
      "metadata": {
        "id": "9wYDTQq8i-vn",
        "colab": {
          "base_uri": "https://localhost:8080/"
        },
        "outputId": "3688c18c-ca63-4e61-d67b-b869ab77683f"
      },
      "execution_count": null,
      "outputs": [
        {
          "output_type": "execute_result",
          "data": {
            "text/plain": [
              "{'banana': 3, 'maçã': 2, 'abacaxi': 1, 'cebola': 2}"
            ]
          },
          "metadata": {},
          "execution_count": 24
        }
      ]
    },
    {
      "cell_type": "code",
      "source": [
        "def contar_elementos(lista_):\n",
        "    return {elemento: lista_.count(elemento) for elemento in set(lista_)}"
      ],
      "metadata": {
        "id": "bfEIDubUQhqf"
      },
      "execution_count": null,
      "outputs": []
    },
    {
      "cell_type": "markdown",
      "source": [
        "## Exercício 4\n",
        "\n",
        "Faça  uma  função que  receba  múltiplos \n",
        "números inteiros em seguida informe quantos são pares e quantos são ímpares."
      ],
      "metadata": {
        "id": "DPCBLOe26mAy"
      }
    },
    {
      "cell_type": "code",
      "source": [
        "def count_pares_impares(lista):\n",
        "  lista_pares = []\n",
        "  lista_impares = []\n",
        "\n",
        "  for numero in lista:\n",
        "    if numero%2 == 0:\n",
        "       lista_pares.append(numero)\n",
        "    else:\n",
        "       lista_impares.append(numero)\n",
        "  \n",
        "  return f\"{len(lista_pares)} números são pares e {len(lista_impares)} números são ímpares\"\n",
        "\n",
        "lista_de_numeros = [2, 4, 5, 7, 8, 3, 1, 6, 9]\n",
        "count_pares_impares(lista_de_numeros)"
      ],
      "metadata": {
        "id": "QsLHXOrS6ocy",
        "colab": {
          "base_uri": "https://localhost:8080/",
          "height": 35
        },
        "outputId": "8f2d3667-2730-427e-bf45-65288a555572"
      },
      "execution_count": null,
      "outputs": [
        {
          "output_type": "execute_result",
          "data": {
            "text/plain": [
              "'4 números são pares e 1 números são ímpares'"
            ],
            "application/vnd.google.colaboratory.intrinsic+json": {
              "type": "string"
            }
          },
          "metadata": {},
          "execution_count": 27
        }
      ]
    },
    {
      "cell_type": "code",
      "source": [
        "def count_pares_impares(lista):\n",
        "  \n",
        "  contando = {\"pares\": 0, \"impares\": 0}\n",
        "\n",
        "  for numero in lista:\n",
        "    if numero%2 == 0:\n",
        "       contando[\"pares\"] += 1\n",
        "    else:\n",
        "       contando[\"impares\"] += 1\n",
        "  \n",
        "  return contando\n",
        "\n",
        "lista_de_numeros = [2, 4, 5, 7, 8, 3, 1, 6, 9]\n",
        "count_pares_impares(lista_de_numeros)"
      ],
      "metadata": {
        "colab": {
          "base_uri": "https://localhost:8080/"
        },
        "id": "Z7POcoJjxiEc",
        "outputId": "1721fa0a-af1a-4135-d81a-41352fa408c7"
      },
      "execution_count": null,
      "outputs": [
        {
          "output_type": "execute_result",
          "data": {
            "text/plain": [
              "{'pares': 4, 'impares': 5}"
            ]
          },
          "metadata": {},
          "execution_count": 15
        }
      ]
    },
    {
      "cell_type": "code",
      "source": [
        "def contar_pares_e_impares(numeros):\n",
        "    contagem = {\"pares\": 0, \"impares\": 0}\n",
        "    \n",
        "    for num in numeros:\n",
        "        grupo = \"pares\" if num % 2 == 0 else \"impares\"\n",
        "        contagem[grupo] = contagem.get(grupo) + 1\n",
        "\n",
        "    return contagem\n"
      ],
      "metadata": {
        "id": "1UdUl5s9cyh7"
      },
      "execution_count": null,
      "outputs": []
    },
    {
      "cell_type": "markdown",
      "source": [
        "## Exercício 5\n",
        "\n",
        "Faça uma função que recebe um elemento a ser encontrado no texto e substitui por outro elemento."
      ],
      "metadata": {
        "id": "rmHKjM7YH-Rx"
      }
    },
    {
      "cell_type": "code",
      "source": [
        "texto = \"Faça uma função que recebe um elemento a ser encontrado no texto e substitui por outro elemento\"\n",
        "\n",
        "def substitui(texto, elemento_antigo, elemento_novo):\n",
        "  return texto.replace(elemento_antigo, elemento_novo)\n",
        "\n",
        "substitui(texto, \"elemento\", \"outra coisa\")"
      ],
      "metadata": {
        "id": "_euaDCPqIIj1",
        "colab": {
          "base_uri": "https://localhost:8080/",
          "height": 35
        },
        "outputId": "e5516958-8886-4b75-9f72-5e7ad9ea48bf"
      },
      "execution_count": null,
      "outputs": [
        {
          "output_type": "execute_result",
          "data": {
            "text/plain": [
              "'Faça uma função que recebe um outra coisa a ser encontrado no texto e substitui por outro outra coisa'"
            ],
            "application/vnd.google.colaboratory.intrinsic+json": {
              "type": "string"
            }
          },
          "metadata": {},
          "execution_count": 20
        }
      ]
    },
    {
      "cell_type": "markdown",
      "source": [
        "## Exercício 6\n",
        "\n",
        "Faça  um  código  contador  de \n",
        "palavras.  O  usuário  vai  inserir  um  texto  qualquer  e  o  programa  vai  contar  a \n",
        "quantidade de cada palavra no texto, armazenando o resultado em um dicionário \n",
        "e exibindo o resultado para o usuário.\n",
        "- caso queira pode utilizar o .split() e replace"
      ],
      "metadata": {
        "id": "CD4Np3uf6ovF"
      }
    },
    {
      "cell_type": "code",
      "source": [
        "texto = input(\"Digite um texto: \")\n",
        "\n",
        "def conta_palavra(texto):\n",
        "  \n",
        "  lista_de_palavras = texto.split()\n",
        "  contagem_palavras = {}\n",
        "\n",
        "  for palavra in lista_de_palavras:\n",
        "    if palavra not in contagem_palavras:\n",
        "      contagem_palavras[palavra] = lista_de_palavras.count(palavra)\n",
        "\n",
        "  return contagem_palavras\n",
        "\n",
        "conta_palavra(texto)"
      ],
      "metadata": {
        "id": "Q7caNhm16vNw",
        "colab": {
          "base_uri": "https://localhost:8080/"
        },
        "outputId": "edd889f5-b829-4a10-ed42-2a56d79cae1e"
      },
      "execution_count": null,
      "outputs": [
        {
          "name": "stdout",
          "output_type": "stream",
          "text": [
            "Digite um texto: diolan vai dar rolê de bike em SP e vai dar trabalho\n"
          ]
        },
        {
          "output_type": "execute_result",
          "data": {
            "text/plain": [
              "{'diolan': 1,\n",
              " 'vai': 2,\n",
              " 'dar': 2,\n",
              " 'rolê': 1,\n",
              " 'de': 1,\n",
              " 'bike': 1,\n",
              " 'em': 1,\n",
              " 'SP': 1,\n",
              " 'e': 1,\n",
              " 'trabalho': 1}"
            ]
          },
          "metadata": {},
          "execution_count": 22
        }
      ]
    },
    {
      "cell_type": "markdown",
      "source": [
        "# Aula 9"
      ],
      "metadata": {
        "id": "odf1bqxagPy8"
      }
    },
    {
      "cell_type": "markdown",
      "source": [
        "## Exercício 1\n",
        "\n",
        "Faça um código que faça a subtracao entre elementos de diferentes listas e eleve esse resultado ao quadrado .\n",
        "\n",
        "exemplo:\n",
        "\n",
        "<center>\n",
        "\n",
        "|listas  | 0 | 1 | 2 | \n",
        "--- | --- | --- | --- |\n",
        "lista1| 3 | 5 | 15 \n",
        "lista2 | 4 | 4 | 10\n",
        "diferença | -1 | 1 | 5\n",
        "quadrado da diferença | 1 | 1 | 25\n",
        "\n",
        "</center>\n",
        "\n",
        "- sugestão: utilize a função map()"
      ],
      "metadata": {
        "id": "Z9Jm1-nrgSyI"
      }
    },
    {
      "cell_type": "code",
      "source": [
        "# funções necessárias para a resolução:\n",
        "\n",
        "# subtração de dois elementos\n",
        "def subtrai(a,b):\n",
        "  return a - b\n",
        "\n",
        "# subtração de elementos de uma lista que retorna uma tupla com os resultados\n",
        "def diferença_de_listas(lista1, lista2):\n",
        "  diferença = map(subtrai , lista1, lista2)\n",
        "  return tuple(diferença)\n",
        "\n",
        "  # resolução do exercício:\n",
        "\n",
        "tupla_diferença = diferença_de_listas([1, 2, 4, 7, 9] , [2, 6, 9, 4, 3])  \n",
        "tupla_quadrado_da_diferença = []\n",
        "\n",
        "for i in range(len(tupla_diferença)):\n",
        "  tupla_quadrado_da_diferença.append(tupla_diferença[i]**2)\n",
        "\n",
        "print(tupla_quadrado_da_diferença)"
      ],
      "metadata": {
        "id": "VBa4ODxKoBov",
        "colab": {
          "base_uri": "https://localhost:8080/"
        },
        "outputId": "654ceea9-c696-480e-de4d-8cfade3a5832"
      },
      "execution_count": null,
      "outputs": [
        {
          "output_type": "stream",
          "name": "stdout",
          "text": [
            "[1, 16, 25, 9, 36]\n"
          ]
        }
      ]
    },
    {
      "cell_type": "code",
      "source": [
        "def subtracao_listas(lista1,lista2):\n",
        "\n",
        "  nova_lista = []\n",
        "\n",
        "  for element in range(len(lista1)):\n",
        "    nova_lista.append((lista1[element] - lista2[element])**2)\n",
        "  return nova_lista\n",
        "\n",
        "subtracao_listas([1,2,3],[0,2,1])"
      ],
      "metadata": {
        "colab": {
          "base_uri": "https://localhost:8080/"
        },
        "id": "F2ihk6n7B5vD",
        "outputId": "c69c95db-a9b0-463c-995b-acc46721847b"
      },
      "execution_count": null,
      "outputs": [
        {
          "output_type": "execute_result",
          "data": {
            "text/plain": [
              "[1, 0, 4]"
            ]
          },
          "metadata": {},
          "execution_count": 1
        }
      ]
    },
    {
      "cell_type": "markdown",
      "source": [
        "## Exercício 2\n",
        "\n",
        "Escreva um código que recebe uma tupla ou lista e retorna os elementos que têm uma vogal\n",
        "\n",
        "- sugestão: utilize a função filter()"
      ],
      "metadata": {
        "id": "XTFofb9rgXJo"
      }
    },
    {
      "cell_type": "code",
      "source": [
        "# um elemento tem vogal?\n",
        "\n",
        "def tem_vogal(elemento):\n",
        "  if type(elemento) == str:\n",
        "    for caractere in elemento:\n",
        "      if caractere.lower() in ('a', 'e', 'i', 'o', 'u'):\n",
        "        return True \n",
        "  return False\n",
        "\n",
        "lista_filtrada = list(filter(tem_vogal, [\"CASA\",\"TERRA\", 5, \"brt\",\"bola\", \"tcc\"]))\n",
        "lista_filtrada"
      ],
      "metadata": {
        "colab": {
          "base_uri": "https://localhost:8080/"
        },
        "id": "FaPJDSGQLCSC",
        "outputId": "852860a5-b3ca-44c5-b8c3-5607326c4693"
      },
      "execution_count": null,
      "outputs": [
        {
          "output_type": "execute_result",
          "data": {
            "text/plain": [
              "['CASA', 'TERRA', 'bola']"
            ]
          },
          "metadata": {},
          "execution_count": 6
        }
      ]
    },
    {
      "cell_type": "markdown",
      "source": [
        "## Exercício 3\n",
        "\n",
        "Faça um código que retorne a multiplicacao entre todos os elementos da lista\n",
        "\n",
        "- sugestão: utilize a função reduce()"
      ],
      "metadata": {
        "id": "aIuPJLVPgerz"
      }
    },
    {
      "cell_type": "code",
      "source": [
        "from functools import reduce\n",
        "\n",
        "def multiplicacao(x,y):\n",
        "  return x*y\n",
        "\n",
        "reduce(multiplicacao,[2,2,2])"
      ],
      "metadata": {
        "colab": {
          "base_uri": "https://localhost:8080/"
        },
        "id": "4IuSz6dWgjkn",
        "outputId": "dfb2e5c4-691f-487a-dfa9-2e2a6cb853c2"
      },
      "execution_count": null,
      "outputs": [
        {
          "output_type": "execute_result",
          "data": {
            "text/plain": [
              "8"
            ]
          },
          "metadata": {},
          "execution_count": 27
        }
      ]
    },
    {
      "cell_type": "markdown",
      "source": [
        "## Exercício 4\n",
        "\n",
        "Faça uma função que sempre some 3 valores e retorne o total de sua soma"
      ],
      "metadata": {
        "id": "pnQDFuizgjsZ"
      }
    },
    {
      "cell_type": "code",
      "source": [
        "def soma_tres(a,b,c):\n",
        "  return a + b + c\n",
        "\n",
        "soma_tres(1,2,3)"
      ],
      "metadata": {
        "colab": {
          "base_uri": "https://localhost:8080/"
        },
        "id": "db1rlKKEEzss",
        "outputId": "9dd0d99d-ab44-4b9b-c2e5-1cd5f4c052b9"
      },
      "execution_count": null,
      "outputs": [
        {
          "output_type": "execute_result",
          "data": {
            "text/plain": [
              "6"
            ]
          },
          "metadata": {},
          "execution_count": 7
        }
      ]
    },
    {
      "cell_type": "markdown",
      "source": [
        "## Exercício 5\n",
        "\n",
        "Agora faça uma função que pode receber múltiplos argumentos e retorne o total de sua soma"
      ],
      "metadata": {
        "id": "Xcgnr6zMgoYp"
      }
    },
    {
      "cell_type": "code",
      "source": [
        "from functools import reduce\n",
        "\n",
        "\n",
        "def soma(x,y):\n",
        "  return x+y\n",
        "\n",
        "def soma_n_elementos(*x):\n",
        "  return reduce(soma , x)\n",
        "\n",
        "soma_n_elementos(2,2,2,3,1)"
      ],
      "metadata": {
        "colab": {
          "base_uri": "https://localhost:8080/"
        },
        "id": "GfwAo8kugtJ9",
        "outputId": "bedf18a1-3dd7-45b7-bb6d-4b8f5618d31c"
      },
      "execution_count": null,
      "outputs": [
        {
          "output_type": "execute_result",
          "data": {
            "text/plain": [
              "10"
            ]
          },
          "metadata": {},
          "execution_count": 9
        }
      ]
    },
    {
      "cell_type": "markdown",
      "source": [
        "## REVER Exercício 6\n",
        "\n",
        "Faça uma função que recebe uma quantidade arbitrária de variáveis de qualquer tipo e retorna uma string contendo todas as suas representações separadas por espaço"
      ],
      "metadata": {
        "id": "NwBTVjuegtSp"
      }
    },
    {
      "cell_type": "code",
      "source": [
        "def string_de_representacoes(*variaveis):\n",
        "  representacao = \"\"\n",
        "  for elemento in variaveis:\n",
        "    representacao += \" \" + elemento\n",
        "  return representacao\n",
        "\n",
        "string_de_representacoes(\"tefi\",\"5\",\"Ola\",\"7\")"
      ],
      "metadata": {
        "colab": {
          "base_uri": "https://localhost:8080/",
          "height": 35
        },
        "id": "iOw5m3bLgxCE",
        "outputId": "5bb40843-ff63-4539-b9f7-2708f487829a"
      },
      "execution_count": null,
      "outputs": [
        {
          "output_type": "execute_result",
          "data": {
            "text/plain": [
              "' tefi 5 Ola 7'"
            ],
            "application/vnd.google.colaboratory.intrinsic+json": {
              "type": "string"
            }
          },
          "metadata": {},
          "execution_count": 9
        }
      ]
    },
    {
      "cell_type": "code",
      "source": [
        "def string_de_representacoes(*variaveis):\n",
        "  return f\" \".join(list(map(str, variaveis)))\n",
        "\n",
        "string_de_representacoes(\"tefi\",\"5\",\"Ola\",\"7\")\n"
      ],
      "metadata": {
        "colab": {
          "base_uri": "https://localhost:8080/",
          "height": 35
        },
        "id": "8WG_yq_nkUGB",
        "outputId": "db25f4d2-299e-463b-fdfe-c582fb8d4ca4"
      },
      "execution_count": null,
      "outputs": [
        {
          "output_type": "execute_result",
          "data": {
            "text/plain": [
              "'tefi 5 Ola 7'"
            ],
            "application/vnd.google.colaboratory.intrinsic+json": {
              "type": "string"
            }
          },
          "metadata": {},
          "execution_count": 13
        }
      ]
    },
    {
      "cell_type": "markdown",
      "source": [
        "## REVER Exercício 7\n",
        "\n",
        "Modifique a função anterior para incluir um parâmetro opcional indicando o caractere de separação entre as variáveis. Seu valor padrão será 1 espaço em branco"
      ],
      "metadata": {
        "id": "OFxBhNnjgxKy"
      }
    },
    {
      "cell_type": "code",
      "source": [
        "def string_de_representacoes(*variaveis):\n",
        "  representacao = \"\"\n",
        "  for elemento in variaveis:\n",
        "    representacao += \"||\" + elemento\n",
        "  return representacao\n",
        "\n",
        "string_de_representacoes(\"tefi\",\"estudando\")"
      ],
      "metadata": {
        "id": "KlV8xquKg1Yn",
        "colab": {
          "base_uri": "https://localhost:8080/",
          "height": 35
        },
        "outputId": "3b4baf59-8db7-45e6-beec-af438c4e7655"
      },
      "execution_count": null,
      "outputs": [
        {
          "output_type": "execute_result",
          "data": {
            "text/plain": [
              "'||tefi||estudando'"
            ],
            "application/vnd.google.colaboratory.intrinsic+json": {
              "type": "string"
            }
          },
          "metadata": {},
          "execution_count": 12
        }
      ]
    },
    {
      "cell_type": "code",
      "source": [
        "def string_de_representacoes(*variaveis):\n",
        "  return f\"||\".join(list(map(str, variaveis)))\n",
        "\n",
        "string_de_representacoes(\"tefi\",\"5\",\"Ola\",\"7\")"
      ],
      "metadata": {
        "colab": {
          "base_uri": "https://localhost:8080/",
          "height": 35
        },
        "id": "abMKBmSIGKks",
        "outputId": "2dca68c9-f3f1-4e5e-deec-c147072a2891"
      },
      "execution_count": null,
      "outputs": [
        {
          "output_type": "execute_result",
          "data": {
            "text/plain": [
              "'tefi||5||Ola||7'"
            ],
            "application/vnd.google.colaboratory.intrinsic+json": {
              "type": "string"
            }
          },
          "metadata": {},
          "execution_count": 11
        }
      ]
    },
    {
      "cell_type": "markdown",
      "source": [
        "## Exercício 8\n",
        "\n",
        "Faça uma função que quando o valor do argumento:\n",
        "- for divisível por 3 retornar \"Fizz\"\n",
        "- for divisível por 5 retornar \"Buzz\"\n",
        "- for divisível por 3 e por 5 retornar \"FizzBuzz\"\n",
        "-  não for divisível por 3 nem por 5 retorne o valor que foi inserido"
      ],
      "metadata": {
        "id": "oWseDwucg1hV"
      }
    },
    {
      "cell_type": "code",
      "source": [
        "def fizz_buzz(numero):\n",
        "  if (numero % 3 == 0) and (numero % 5 == 0):\n",
        "    return \"FizzBuzz\"\n",
        "  if numero % 3 == 0:\n",
        "    return \"Fizz\"\n",
        "  if numero % 5 == 0:\n",
        "    return \"Buzz\"\n",
        "  return numero\n",
        "\n",
        "fizz_buzz(5)"
      ],
      "metadata": {
        "colab": {
          "base_uri": "https://localhost:8080/",
          "height": 35
        },
        "id": "Kve7oEASHH--",
        "outputId": "5977e824-c37e-45c3-969d-d81d664c749e"
      },
      "execution_count": null,
      "outputs": [
        {
          "output_type": "execute_result",
          "data": {
            "text/plain": [
              "'Buzz'"
            ],
            "application/vnd.google.colaboratory.intrinsic+json": {
              "type": "string"
            }
          },
          "metadata": {},
          "execution_count": 14
        }
      ]
    },
    {
      "cell_type": "markdown",
      "source": [
        "## Exercício 9\n",
        "\n",
        "Faca uma função que diga \"Olá usuário\" se nada for passado como argumento. Caso contrário a função dirá Olá e o nome da pessoa"
      ],
      "metadata": {
        "id": "x9q_6Duyg6xh"
      }
    },
    {
      "cell_type": "code",
      "source": [
        "def saudacao(pessoa = \"usuário\"):\n",
        "  return \"Olá \" + pessoa\n",
        "\n",
        "saudacao()\n",
        "#saudacao(\"Tefi\")"
      ],
      "metadata": {
        "colab": {
          "base_uri": "https://localhost:8080/",
          "height": 35
        },
        "id": "f_GA2xrYHmQe",
        "outputId": "d0cec394-36a3-4043-bb20-8511c4eb6db3"
      },
      "execution_count": null,
      "outputs": [
        {
          "output_type": "execute_result",
          "data": {
            "text/plain": [
              "'Olá usuário'"
            ],
            "application/vnd.google.colaboratory.intrinsic+json": {
              "type": "string"
            }
          },
          "metadata": {},
          "execution_count": 22
        }
      ]
    },
    {
      "cell_type": "markdown",
      "source": [
        "## Exercício 10\n",
        "\n",
        "criar uma função que consiga registrar dados sobre animais.\n",
        "- tenha um parâmetro obrigatorio para identificar o animal (ex: gato, cachorro, etc.)\n",
        "- tenha um parâmetro país com padrão Brasil\n",
        "- aceite através de múltiplos argumentos características desse animal (ex:quantidade_asas, raca, etc)\n",
        "- retornar um texto que contenha o valores que foram inputadas em animal, país e:\n",
        " - caso tenha alguma outra característica extra: também retorna no texto a quantidade de características (argumentos) que foram registrados e seus nomes.\n",
        " - caso não tenha característica extra  mencionar no texto de retorno"
      ],
      "metadata": {
        "id": "PdlUmnJihC8O"
      }
    },
    {
      "cell_type": "code",
      "source": [
        "def registro_animais(animal, pais='Brasil', **caracteristicas):\n",
        "  registro = (\"O animal \" + animal + \" foi registrado no país \" + pais + \".\")\n",
        "\n",
        "  if caracteristicas:\n",
        "    registro += (\" Outras \" + str(len(caracteristicas)) +\n",
        "                   \" características foram registradas: \" + \", \".join(caracteristicas.keys()))\n",
        "    \n",
        "  else:\n",
        "    registro += \" Não houve características adicionais a serem registradas.\"\n",
        "  \n",
        "  return registro\n",
        "\n",
        "\n",
        "registro_animais(\"cachorro\", pais=\"USA\", quantidade_patas=4, raca='vira-lata')"
      ],
      "metadata": {
        "id": "akzzPu2zhGCC",
        "colab": {
          "base_uri": "https://localhost:8080/",
          "height": 35
        },
        "outputId": "a12a86e4-783d-4bae-edd1-8a5bc216942d"
      },
      "execution_count": null,
      "outputs": [
        {
          "output_type": "execute_result",
          "data": {
            "text/plain": [
              "'O animal cachorro foi registrado no país USA. Outras 2 características foram registradas: quantidade_patas, raca'"
            ],
            "application/vnd.google.colaboratory.intrinsic+json": {
              "type": "string"
            }
          },
          "metadata": {},
          "execution_count": 23
        }
      ]
    },
    {
      "cell_type": "markdown",
      "source": [
        "# [REVER] Aula 10"
      ],
      "metadata": {
        "id": "suFHuvRbwMWI"
      }
    },
    {
      "cell_type": "markdown",
      "source": [
        "## Exercício 1\n",
        "\n",
        "Escreva um código que lê um arquivo de texto contendo uma série de números separados por quebra de linha (```'\\n'```) e os adiciona a uma lista. Imprima a lista na tela."
      ],
      "metadata": {
        "id": "sqNnm8LBwRqE"
      }
    },
    {
      "cell_type": "code",
      "source": [
        "from google.colab import drive\n",
        "drive.mount('/content/drive')\n",
        "\n",
        "arquivo = open('/content/drive/MyDrive/numeros.txt', 'r')\n",
        "conteudo = arquivo.read().split(\"\\n\")\n",
        "#print(conteudo)\n",
        "conteudo = list(map(int,conteudo))\n",
        "arquivo.close()\n",
        "\n",
        "print(conteudo)\n"
      ],
      "metadata": {
        "colab": {
          "base_uri": "https://localhost:8080/"
        },
        "id": "sNwSO_uowXqq",
        "outputId": "b0027653-2878-4e8b-e74a-d801b4dbc2e5"
      },
      "execution_count": null,
      "outputs": [
        {
          "output_type": "stream",
          "name": "stdout",
          "text": [
            "Drive already mounted at /content/drive; to attempt to forcibly remount, call drive.mount(\"/content/drive\", force_remount=True).\n",
            "[90, 81, 94, 65, 48, 41, 7, 67, 71, 98, 7, 18, 75, 16, 36, 67, 37, 6, 79, 94, 79, 16, 4, 100, 3, 56, 50, 51, 70, 16, 44, 96, 73, 71, 3, 41, 68, 21, 3, 95, 38, 37, 83, 28, 8, 8, 55, 45, 21, 64, 43, 92, 62]\n"
          ]
        }
      ]
    },
    {
      "cell_type": "markdown",
      "source": [
        "## Exercício 2\n",
        "\n",
        "Escreva um programa que lê um arquivo de texto contendo uma série de números inteiros separados por quebra de linha (```\\n```) e escreva na tela o somatório dos números."
      ],
      "metadata": {
        "id": "ARJ8btLWwX7q"
      }
    },
    {
      "cell_type": "code",
      "source": [
        "arquivo = open('/content/drive/MyDrive/numeros.txt', 'r')\n",
        "conteudo = arquivo.read().split(\"\\n\")\n",
        "conteudo = list(map(int,conteudo))\n",
        "arquivo.close()\n",
        "\n",
        "sum(conteudo)"
      ],
      "metadata": {
        "id": "L_r8u4fewcYV",
        "colab": {
          "base_uri": "https://localhost:8080/"
        },
        "outputId": "075329ae-f57a-4d7d-b50e-7c643b7fc6ef"
      },
      "execution_count": null,
      "outputs": [
        {
          "output_type": "execute_result",
          "data": {
            "text/plain": [
              "2641"
            ]
          },
          "metadata": {},
          "execution_count": 27
        }
      ]
    },
    {
      "cell_type": "markdown",
      "source": [
        "## Exercício 3\n",
        "\n",
        "Crie uma função que cheque se um número inteiro é primo (divisível por apenas 1 e por ele mesmo) ou não.\n",
        "- Se for primo retornar \"primo\"\n",
        "- Caso contrário, retorne \"não-primo\""
      ],
      "metadata": {
        "id": "HwTqnUvrwchf"
      }
    },
    {
      "cell_type": "code",
      "source": [
        "def is_primo(numero):\n",
        "  for numero_dividir in range(2,(numero//2)+1):\n",
        "    if numero % numero_dividir == 0:\n",
        "      return \"não-primo\"\n",
        "  return \"primo\"\n",
        "\n",
        "is_primo(50)"
      ],
      "metadata": {
        "id": "t8OZpw7owks-",
        "colab": {
          "base_uri": "https://localhost:8080/",
          "height": 35
        },
        "outputId": "7862eac2-82fc-469a-e300-cf424dc49b91"
      },
      "execution_count": null,
      "outputs": [
        {
          "output_type": "execute_result",
          "data": {
            "text/plain": [
              "'não-primo'"
            ],
            "application/vnd.google.colaboratory.intrinsic+json": {
              "type": "string"
            }
          },
          "metadata": {},
          "execution_count": 29
        }
      ]
    },
    {
      "cell_type": "markdown",
      "source": [
        "## Exercício 4\n",
        "\n",
        "Escreva um programa que lê um arquivo de texto contendo uma série de números separados por quebra de linha (```\\n```). Crie um novo arquivo onde você irá escrever \"primo\" ou \"não-primo\" na linha correspondente a cada número.\n",
        "\n",
        "- Importante: Além dos argumento que já passamos comumente para o open(), passe o argumento 'utf-8' para parâmetro encoding dentro do open()"
      ],
      "metadata": {
        "id": "ZuXIGT-Xwk12"
      }
    },
    {
      "cell_type": "code",
      "source": [
        "arquivo = open('/content/drive/MyDrive/numeros.txt', 'r')\n",
        "conteudo = arquivo.read().split(\"\\n\")\n",
        "conteudo = list(map(int,conteudo))\n",
        "arquivo.close()\n",
        "\n",
        "novo_arquivo = open(\"/content/drive/MyDrive/numeros_primos.txt\", \"w\")\n",
        "\n",
        "for numero in conteudo:\n",
        "  avaliacao = is_primo(numero)\n",
        "  novo_arquivo.write(avaliacao + \" \" + str(numero) + \"\\n\")\n",
        "\n",
        "novo_arquivo.close()"
      ],
      "metadata": {
        "id": "cB9Nc2_ywpHY"
      },
      "execution_count": null,
      "outputs": []
    },
    {
      "cell_type": "markdown",
      "source": [
        "## Exercício 5\n",
        "\n",
        "Faça um código que pede para o usuário digitar a quantidade de provas aplicadas, a quantidade de alunos em uma turma e cada uma das notas.\n",
        "\n",
        "- O seu programa deverá salvar apenas as notas digitadas em um arquivo CSV onde cada linha representa um aluno e cada coluna é uma nota da prova."
      ],
      "metadata": {
        "id": "nUpJNJqIwsRG"
      }
    },
    {
      "cell_type": "code",
      "source": [
        "quantidade_alunos = 2\n",
        "quantidade_provas = 2\n",
        "\n",
        "todas_notas_alunos = [[]]\n",
        "for aluno in range(quantidade_alunos):\n",
        "  notas_aluno = []\n",
        "  for prova in range(quantidade_provas):\n",
        "    nota = float(input(f\"cadastre a nota da prova do aluno {aluno} prova {prova}: \"))\n",
        "    notas_aluno.append(nota)\n",
        "  todas_notas_alunos.append(notas_aluno)\n",
        "\n",
        "todas_notas_aluno"
      ],
      "metadata": {
        "colab": {
          "base_uri": "https://localhost:8080/"
        },
        "id": "5EfcDLX_Qe1Q",
        "outputId": "f3053294-ebb5-4d41-d81c-54f7f28bd5af"
      },
      "execution_count": null,
      "outputs": [
        {
          "name": "stdout",
          "output_type": "stream",
          "text": [
            "cadastre a nota da prova do aluno 0 prova 0: 10\n",
            "cadastre a nota da prova do aluno 0 prova 1: 10\n",
            "cadastre a nota da prova do aluno 1 prova 0: 85\n",
            "cadastre a nota da prova do aluno 1 prova 1: 8\n"
          ]
        },
        {
          "output_type": "execute_result",
          "data": {
            "text/plain": [
              "[[], [10.0, 10.0], [85.0, 8.0]]"
            ]
          },
          "metadata": {},
          "execution_count": 33
        }
      ]
    },
    {
      "cell_type": "markdown",
      "source": [
        "## Exercício 6\n",
        "\n",
        "Faça um programa que carrega um arquivo CSV de notas (como o gerado pelo exercício anterior) e pede para o usuário digitar a nota mínima para aprovação. Ele deverá gerar um novo arquivo contendo as notas originais e 2 colunas adicionais: A média de cada aluno na primeira (com 2 casas decimais) e \"APR\" ou \"REP\" na segunda, indicando se a média atingiu o valor mínimo ou não.\n",
        "\n",
        "- Para arredondar, pode utilizar a função round()"
      ],
      "metadata": {
        "id": "PRCTJHKrw0mf"
      }
    },
    {
      "cell_type": "code",
      "source": [
        "import csv\n",
        "\n",
        "arquivo = open(\"notas.csv\", \"w\")\n",
        "escritor = csv.writer(arquivo, delimiter=\",\", lineterminator=\"\\n\")\n",
        "escritor.writerows(todas_notas_alunos)\n",
        "arquivo.close()"
      ],
      "metadata": {
        "id": "AkvlqlpaRM3N",
        "colab": {
          "base_uri": "https://localhost:8080/",
          "height": 218
        },
        "outputId": "93579ad8-1d78-452e-ff77-60aad8b47b13"
      },
      "execution_count": null,
      "outputs": [
        {
          "output_type": "error",
          "ename": "NameError",
          "evalue": "ignored",
          "traceback": [
            "\u001b[0;31m---------------------------------------------------------------------------\u001b[0m",
            "\u001b[0;31mNameError\u001b[0m                                 Traceback (most recent call last)",
            "\u001b[0;32m<ipython-input-4-cea7dcf8827e>\u001b[0m in \u001b[0;36m<module>\u001b[0;34m\u001b[0m\n\u001b[1;32m      3\u001b[0m \u001b[0marquivo\u001b[0m \u001b[0;34m=\u001b[0m \u001b[0mopen\u001b[0m\u001b[0;34m(\u001b[0m\u001b[0;34m\"notas.csv\"\u001b[0m\u001b[0;34m,\u001b[0m \u001b[0;34m\"w\"\u001b[0m\u001b[0;34m)\u001b[0m\u001b[0;34m\u001b[0m\u001b[0;34m\u001b[0m\u001b[0m\n\u001b[1;32m      4\u001b[0m \u001b[0mescritor\u001b[0m \u001b[0;34m=\u001b[0m \u001b[0mcsv\u001b[0m\u001b[0;34m.\u001b[0m\u001b[0mwriter\u001b[0m\u001b[0;34m(\u001b[0m\u001b[0marquivo\u001b[0m\u001b[0;34m,\u001b[0m \u001b[0mdelimiter\u001b[0m\u001b[0;34m=\u001b[0m\u001b[0;34m\",\"\u001b[0m\u001b[0;34m,\u001b[0m \u001b[0mlineterminator\u001b[0m\u001b[0;34m=\u001b[0m\u001b[0;34m\"\\n\"\u001b[0m\u001b[0;34m)\u001b[0m\u001b[0;34m\u001b[0m\u001b[0;34m\u001b[0m\u001b[0m\n\u001b[0;32m----> 5\u001b[0;31m \u001b[0mescritor\u001b[0m\u001b[0;34m.\u001b[0m\u001b[0mwriterows\u001b[0m\u001b[0;34m(\u001b[0m\u001b[0mtodas_notas_alunos\u001b[0m\u001b[0;34m)\u001b[0m\u001b[0;34m\u001b[0m\u001b[0;34m\u001b[0m\u001b[0m\n\u001b[0m\u001b[1;32m      6\u001b[0m \u001b[0marquivo\u001b[0m\u001b[0;34m.\u001b[0m\u001b[0mclose\u001b[0m\u001b[0;34m(\u001b[0m\u001b[0;34m)\u001b[0m\u001b[0;34m\u001b[0m\u001b[0;34m\u001b[0m\u001b[0m\n",
            "\u001b[0;31mNameError\u001b[0m: name 'todas_notas_alunos' is not defined"
          ]
        }
      ]
    },
    {
      "cell_type": "code",
      "source": [
        "import csv\n",
        "\n",
        "arquivo = open(\"notas.csv\", \"r\")\n",
        "leitor = csv.reader(arquivo, delimiter=',', lineterminator='\\n')\n",
        "\n",
        "tabela_notas_alunos = []\n",
        "\n",
        "for linha in leitor:\n",
        "  tabela_notas_alunos.append(list(map(float,linha)))\n",
        "\n",
        "arquivo.close()\n",
        "\n",
        "tabela_notas_alunos"
      ],
      "metadata": {
        "colab": {
          "base_uri": "https://localhost:8080/",
          "height": 236
        },
        "id": "5csv9d-QQ_vh",
        "outputId": "4e2f3fa8-34d6-47e8-fa91-b7fb39aa5ceb"
      },
      "execution_count": null,
      "outputs": [
        {
          "output_type": "error",
          "ename": "FileNotFoundError",
          "evalue": "ignored",
          "traceback": [
            "\u001b[0;31m---------------------------------------------------------------------------\u001b[0m",
            "\u001b[0;31mFileNotFoundError\u001b[0m                         Traceback (most recent call last)",
            "\u001b[0;32m<ipython-input-3-3cb15698119d>\u001b[0m in \u001b[0;36m<module>\u001b[0;34m\u001b[0m\n\u001b[1;32m      1\u001b[0m \u001b[0;32mimport\u001b[0m \u001b[0mcsv\u001b[0m\u001b[0;34m\u001b[0m\u001b[0;34m\u001b[0m\u001b[0m\n\u001b[1;32m      2\u001b[0m \u001b[0;34m\u001b[0m\u001b[0m\n\u001b[0;32m----> 3\u001b[0;31m \u001b[0marquivo\u001b[0m \u001b[0;34m=\u001b[0m \u001b[0mopen\u001b[0m\u001b[0;34m(\u001b[0m\u001b[0;34m\"notas.csv\"\u001b[0m\u001b[0;34m,\u001b[0m \u001b[0;34m\"r\"\u001b[0m\u001b[0;34m)\u001b[0m\u001b[0;34m\u001b[0m\u001b[0;34m\u001b[0m\u001b[0m\n\u001b[0m\u001b[1;32m      4\u001b[0m \u001b[0mleitor\u001b[0m \u001b[0;34m=\u001b[0m \u001b[0mcsv\u001b[0m\u001b[0;34m.\u001b[0m\u001b[0mreader\u001b[0m\u001b[0;34m(\u001b[0m\u001b[0marquivo\u001b[0m\u001b[0;34m,\u001b[0m \u001b[0mdelimiter\u001b[0m\u001b[0;34m=\u001b[0m\u001b[0;34m','\u001b[0m\u001b[0;34m,\u001b[0m \u001b[0mlineterminator\u001b[0m\u001b[0;34m=\u001b[0m\u001b[0;34m'\\n'\u001b[0m\u001b[0;34m)\u001b[0m\u001b[0;34m\u001b[0m\u001b[0;34m\u001b[0m\u001b[0m\n\u001b[1;32m      5\u001b[0m \u001b[0;34m\u001b[0m\u001b[0m\n",
            "\u001b[0;31mFileNotFoundError\u001b[0m: [Errno 2] No such file or directory: 'notas.csv'"
          ]
        }
      ]
    },
    {
      "cell_type": "code",
      "source": [
        "nota_minima = 9.5\n",
        "\n",
        "for aluno in tabela_notas_alunos:\n",
        "  soma = 0\n",
        "  for nota in aluno:\n",
        "    soma += nota\n",
        "  media = round(soma / len(aluno), 2)\n",
        "  aluno.append(media)\n",
        "  if media >=  nota_minima:\n",
        "    aluno.append(\"apr\")\n",
        "  else:\n",
        "    aluno.append(\"rep\")\n",
        "  \n",
        "print(tabela_notas_alunos)"
      ],
      "metadata": {
        "id": "5rHJ3TwhRVzx",
        "outputId": "90403bfc-c62a-46d8-8472-9681f944caa1",
        "colab": {
          "base_uri": "https://localhost:8080/",
          "height": 236
        }
      },
      "execution_count": null,
      "outputs": [
        {
          "output_type": "error",
          "ename": "NameError",
          "evalue": "ignored",
          "traceback": [
            "\u001b[0;31m---------------------------------------------------------------------------\u001b[0m",
            "\u001b[0;31mNameError\u001b[0m                                 Traceback (most recent call last)",
            "\u001b[0;32m<ipython-input-2-36f3ae682cf8>\u001b[0m in \u001b[0;36m<module>\u001b[0;34m\u001b[0m\n\u001b[1;32m      1\u001b[0m \u001b[0mnota_minima\u001b[0m \u001b[0;34m=\u001b[0m \u001b[0;36m9.5\u001b[0m\u001b[0;34m\u001b[0m\u001b[0;34m\u001b[0m\u001b[0m\n\u001b[1;32m      2\u001b[0m \u001b[0;34m\u001b[0m\u001b[0m\n\u001b[0;32m----> 3\u001b[0;31m \u001b[0;32mfor\u001b[0m \u001b[0maluno\u001b[0m \u001b[0;32min\u001b[0m \u001b[0mtabela_notas_alunos\u001b[0m\u001b[0;34m:\u001b[0m\u001b[0;34m\u001b[0m\u001b[0;34m\u001b[0m\u001b[0m\n\u001b[0m\u001b[1;32m      4\u001b[0m   \u001b[0msoma\u001b[0m \u001b[0;34m=\u001b[0m \u001b[0;36m0\u001b[0m\u001b[0;34m\u001b[0m\u001b[0;34m\u001b[0m\u001b[0m\n\u001b[1;32m      5\u001b[0m   \u001b[0;32mfor\u001b[0m \u001b[0mnota\u001b[0m \u001b[0;32min\u001b[0m \u001b[0maluno\u001b[0m\u001b[0;34m:\u001b[0m\u001b[0;34m\u001b[0m\u001b[0;34m\u001b[0m\u001b[0m\n",
            "\u001b[0;31mNameError\u001b[0m: name 'tabela_notas_alunos' is not defined"
          ]
        }
      ]
    },
    {
      "cell_type": "markdown",
      "source": [
        "# Aula 11"
      ],
      "metadata": {
        "id": "dZJ3lp28RmZk"
      }
    },
    {
      "cell_type": "markdown",
      "source": [
        "## Exercício 1\n",
        "\n",
        "crie um código que recebe uma lista ou tupla, para cada elemento da coleção abrevie as primeiras 3 letras e retorna uma string única com todos seus valores minúsculos e separados por espaço\n",
        "\n",
        "sugestão:\n",
        "- utilize lambda\n",
        "- utilize map"
      ],
      "metadata": {
        "id": "7WHTSC5ERoTp"
      }
    },
    {
      "cell_type": "code",
      "source": [
        "lista_recebida = [\"aluno\", \"professor\", \"escola\", \"aprendizado\"]\n",
        "string_unica_abreviada = \" \".join(map(lambda lista: lista.lower()[0:3], lista_recebida))\n",
        "string_unica_abreviada"
      ],
      "metadata": {
        "id": "-CfOVFWjR0LR",
        "colab": {
          "base_uri": "https://localhost:8080/",
          "height": 35
        },
        "outputId": "082cb27a-1daa-4760-ab72-d84f0afcfa51"
      },
      "execution_count": null,
      "outputs": [
        {
          "output_type": "execute_result",
          "data": {
            "text/plain": [
              "'alu pro esc apr'"
            ],
            "application/vnd.google.colaboratory.intrinsic+json": {
              "type": "string"
            }
          },
          "metadata": {},
          "execution_count": 5
        }
      ]
    },
    {
      "cell_type": "markdown",
      "source": [
        "## Exercício 2\n",
        "\n",
        "Crie um código que recebe uma lista e retorna apenas números >=0\n",
        "\n",
        "- sugestão: utilize filter() e lambda"
      ],
      "metadata": {
        "id": "Ud0L5tBDR0W9"
      }
    },
    {
      "cell_type": "code",
      "source": [
        "lista_numeros = [0,13,-22]\n",
        "lista_numeros_nulo_positivos = list(filter(lambda num: num >= 0, lista_numeros))\n",
        "lista_numeros_nulo_positivos"
      ],
      "metadata": {
        "id": "suMM74uLR-ld",
        "colab": {
          "base_uri": "https://localhost:8080/"
        },
        "outputId": "a60a5960-da41-4f3e-ee65-9fc82353256e"
      },
      "execution_count": null,
      "outputs": [
        {
          "output_type": "execute_result",
          "data": {
            "text/plain": [
              "[0, 13]"
            ]
          },
          "metadata": {},
          "execution_count": 7
        }
      ]
    },
    {
      "cell_type": "markdown",
      "source": [
        "## Exercício 3\n",
        "\n",
        "Um professor precisou anular uma questão de uma prova. Faça uma código que recebe a lista de notas da turma, o valor da questão anulada e soma esse valor em todas as notas."
      ],
      "metadata": {
        "id": "eCmLI7jER-uA"
      }
    },
    {
      "cell_type": "code",
      "source": [
        "pontuacao_adicional = float(input(\"Qual o valor da questão anulada: \"))\n",
        "quantidade_alunos = int(input(\"Quantidade de alunos: \"))\n",
        "\n",
        "notas_ajustadas = [\n",
        "    min(float(input(f\"Informe a nota do {i}º: \")) + pontuacao_adicional, 10.0)\n",
        "    for i in range(1, quantidade_alunos + 1)\n",
        "]\n",
        "\n",
        "print(\"Notas finais:\", notas_ajustadas)"
      ],
      "metadata": {
        "id": "1TNPE3KOSDeT",
        "colab": {
          "base_uri": "https://localhost:8080/"
        },
        "outputId": "ec5e8f51-72df-457b-a803-14d6925d7633"
      },
      "execution_count": null,
      "outputs": [
        {
          "output_type": "stream",
          "name": "stdout",
          "text": [
            "Qual o valor da questão anulada: 2\n",
            "Quantidade de alunos: 2\n",
            "Informe a nota do 1º: 5\n",
            "Informe a nota do 2º: 8\n",
            "Notas finais: [7.0, 10.0]\n"
          ]
        }
      ]
    },
    {
      "cell_type": "markdown",
      "source": [
        "## Exercício 4\n",
        "\n",
        "Faça um código que recebe uma lista de números e retorna uma lista contendo os cubos dos números maiores ou iguais a zero e o quadrado dos números negativos."
      ],
      "metadata": {
        "id": "BqvMUUSUSEOS"
      }
    },
    {
      "cell_type": "code",
      "source": [
        "lista_numeros = [-2,-3,0,3,4,5]\n",
        "lista_resultado = list(map(lambda num: num ** (3 - int(num < 0)), lista_numeros))\n",
        "print(lista_resultado)"
      ],
      "metadata": {
        "id": "hEDIqZwhSK6v",
        "colab": {
          "base_uri": "https://localhost:8080/"
        },
        "outputId": "f45a4eeb-f738-4276-de10-d7158dd5f149"
      },
      "execution_count": null,
      "outputs": [
        {
          "output_type": "stream",
          "name": "stdout",
          "text": [
            "[4, 9, 0, 27, 64, 125]\n"
          ]
        }
      ]
    },
    {
      "cell_type": "markdown",
      "source": [
        "## Exercício 5\n",
        "\n",
        "Faça uma função que retorna uma lista contendo apenas float a partir de uma lista contendo variáveis inteiras, float e strings. Exemplo:\n",
        "\n",
        "Entrada: [1, 2.0, '3', 4.0, '5.5', 6]\n",
        "\n",
        "Saída: [1.0, 2.0, 3.0, 4.0, 5.5, 6.0]"
      ],
      "metadata": {
        "id": "fpR-xnoCSLDA"
      }
    },
    {
      "cell_type": "code",
      "source": [
        "entrada = [1, 2.0, '3', 4.0, '5.5', 6]\n",
        "saida = [float(elemento) for elemento in entrada]\n",
        "saida"
      ],
      "metadata": {
        "id": "8zErBk0dSPl4",
        "colab": {
          "base_uri": "https://localhost:8080/"
        },
        "outputId": "88938db3-6bbf-41c5-d791-59a9090230ec"
      },
      "execution_count": null,
      "outputs": [
        {
          "output_type": "execute_result",
          "data": {
            "text/plain": [
              "[1.0, 2.0, 3.0, 4.0, 5.5, 6.0]"
            ]
          },
          "metadata": {},
          "execution_count": 12
        }
      ]
    },
    {
      "cell_type": "markdown",
      "source": [
        "## Exercício 6\n",
        "\n",
        "Faça uma função que recebe uma lista de nomes, uma lista de médias e a nota mínima para aprovação. Ela deverá retornar um dicionário contendo os nomes dos alunos e \"APR\" ou \"REP\" indicando a situação de cada um deles.\n",
        "\n",
        "- dica: há uma peculiaridade na condicional de um dicionário que possa ser necessário pensar em mudar uma pequena parte do código para funcionar como esperado :)"
      ],
      "metadata": {
        "id": "O3IvtpMLSPvg"
      }
    },
    {
      "cell_type": "code",
      "source": [
        "from typing import Any, Dict, List\n",
        "\n",
        "\n",
        "def check_situation(grade: float, min_grade: float) -> str:\n",
        "    return \"APR\" if grade >= min_grade else \"REP\"\n",
        "\n",
        "\n",
        "def get_status_from_students(\n",
        "    names: List[str], averages: List[float], min_pass_grade: float\n",
        ") -> Dict[str, Any]:\n",
        "    return {\n",
        "        name: check_situation(average, min_pass_grade) \n",
        "        for name, average in zip(names, averages)\n",
        "    }\n",
        "\n",
        "\n",
        "def main() -> None:\n",
        "    students = [\"Fulano\", \"Beltrano\", \"Ciclano\"]\n",
        "    averages = [6.9, 8.5, 5.5]\n",
        "    print(get_status_from_students(students, averages, 7.0))\n",
        "\n",
        "\n",
        "main()"
      ],
      "metadata": {
        "id": "junHJTNrSa8B",
        "colab": {
          "base_uri": "https://localhost:8080/"
        },
        "outputId": "6a441c0f-0b11-4b82-9e57-9b7a3d6366c5"
      },
      "execution_count": null,
      "outputs": [
        {
          "output_type": "stream",
          "name": "stdout",
          "text": [
            "{'Fulano': 'REP', 'Beltrano': 'APR', 'Ciclano': 'REP'}\n"
          ]
        }
      ]
    },
    {
      "cell_type": "markdown",
      "source": [
        "## Exercício 7\n",
        "\n",
        "Crie o seu próprio gerador que funcione como um contador similar ao **range**. \n",
        "\n",
        "* Esse iterador receberá um argumento indicando até que valor ele irá contar. Ele sempre começará a contar pelo 0 e irá aumentando de 1 em 1"
      ],
      "metadata": {
        "id": "ajpD4WZCSbEc"
      }
    },
    {
      "cell_type": "code",
      "source": [
        "def my_range(stop: int, step: int = 1):\n",
        "    yield from range(0, stop, step)\n",
        "\n",
        "\n",
        "print(my_range(30))"
      ],
      "metadata": {
        "id": "3qFR1Zv7SeCJ",
        "colab": {
          "base_uri": "https://localhost:8080/"
        },
        "outputId": "651cc5f9-6584-476f-e218-b9b5d0475902"
      },
      "execution_count": null,
      "outputs": [
        {
          "output_type": "stream",
          "name": "stdout",
          "text": [
            "<generator object my_range at 0x7eff960f0350>\n"
          ]
        }
      ]
    },
    {
      "cell_type": "markdown",
      "source": [
        "# Semana 12"
      ],
      "metadata": {
        "id": "Lo_Bisv005Tv"
      }
    },
    {
      "cell_type": "markdown",
      "source": [
        "## Exercício 1\n",
        "\n",
        "O programa abaixo apresenta alguns erros de execução. Sem alterar as estruturas de dados originais (lista e dicionário):\n",
        "- faça um tratamento adequado dos erros para exibir as médias corretas de cada aluno ou mensagens de erro significativas para o usuário em português, sem permitir que o programa seja interrompido antes de finalizar sua execução.\n",
        "\n",
        "- para cada tentativa de média dos alunos, exiba a mensagem evidenciando que está começando a processar as informações do aluno e quando tiver terminado de processa-las, independente se deu erro ou não.\n",
        "\n",
        "\n",
        "```python\n",
        "alunos = ['John', 'Paul', 'George', 'Ringo', 'Joao', 'Pete']\n",
        "\n",
        "notas = {\n",
        "    'John':[7.5, 9.0, 8.25, 8.0],\n",
        "    'Paul':[9.0, 8.5, '10.0', 8.5],\n",
        "    'George':[6.0, '7.0', 8.0, 9],\n",
        "    'Ringo':[4.5, 4.0, 6.0, 7.0],\n",
        "    'Pete':[]\n",
        "}\n",
        "\n",
        "for aluno in alunos:\n",
        "    media = sum(notas[aluno])/len(notas[aluno])\n",
        "    print(f'{aluno}:\\t{media}')\n",
        "```"
      ],
      "metadata": {
        "id": "Qd8bDXWI07g6"
      }
    },
    {
      "cell_type": "code",
      "source": [],
      "metadata": {
        "id": "iEVhO4Va0-Yi"
      },
      "execution_count": null,
      "outputs": []
    }
  ]
}